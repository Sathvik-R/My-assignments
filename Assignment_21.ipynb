{
 "cells": [
  {
   "cell_type": "code",
   "execution_count": 5,
   "id": "b783be3c",
   "metadata": {},
   "outputs": [],
   "source": [
    "#Q1.Add the current date to the text file today.txt as a string.\n",
    "\n",
    "#import datetime\n",
    "#data = str(datetime.datetime.now())\n",
    "#file1 =  open(\"today.txt\", \"w\") \n",
    "#file1.write(data)\n",
    "#print(data)\n",
    "\n",
    "#OR\n",
    "\n",
    "from datetime import date\n",
    "now = date.today()\n",
    "now_str = now.isoformat()\n",
    "with open('today', 'wt') as output:\n",
    "    print(now_str, file=output)"
   ]
  },
  {
   "cell_type": "code",
   "execution_count": 6,
   "id": "793c2d2d",
   "metadata": {},
   "outputs": [
    {
     "data": {
      "text/plain": [
       "'2021-10-26\\n'"
      ]
     },
     "execution_count": 6,
     "metadata": {},
     "output_type": "execute_result"
    }
   ],
   "source": [
    "#Q2.Read the text file today.txt into the string today_string\n",
    "#file2 =  open(\"today.txt\", \"r\") \n",
    "#a=file2.read()\n",
    "#print(a)\n",
    "\n",
    "with open('today', 'rt') as input:\n",
    "    today_string = input.read()\n",
    "today_string"
   ]
  },
  {
   "cell_type": "code",
   "execution_count": null,
   "id": "74998288",
   "metadata": {},
   "outputs": [],
   "source": [
    "#Q3.Parse the date from today_string.\n",
    "\n",
    "from datetime import datetime\n",
    "\n",
    "datetime_str = a\n",
    "\n",
    "datetime_object = datetime.strptime(datetime_str, '%y/%m/%d %H:%M:%S')\n",
    "\n",
    "print(type(datetime_object))\n",
    "print(datetime_object) \n",
    "\n",
    "\n",
    "# dd/mm/YY\n",
    "d1 = datetime_object.strftime(\"%d/%m/%Y\")\n",
    "print(\"d1 =\", d1)\n",
    "\n",
    "# Textual month, day and year\n",
    "d2 = datetime_object.strftime(\"%B %d, %Y\")\n",
    "print(\"d2 =\", d2)\n",
    "\n",
    "# mm/dd/y\n",
    "d3 = datetime_object.strftime(\"%m/%d/%y\")\n",
    "print(\"d3 =\", d3)\n",
    "\n",
    "# Month abbreviation, day and year\n",
    "d4 = datetime_object.strftime(\"%b-%d-%Y\")\n",
    "print(\"d4 =\", d4)"
   ]
  },
  {
   "cell_type": "code",
   "execution_count": 7,
   "id": "ebd5e977",
   "metadata": {},
   "outputs": [
    {
     "name": "stdout",
     "output_type": "stream",
     "text": [
      "['.DS_Store', '.ipynb_checkpoints', '._.DS_Store', '1) Basics_1.ipynb', '19.2.MySQL', '19.3 MongoDB', '2) Tuples,Sets and Dicts.ipynb', '3) OOPS.ipynb', '4) Modules,EH and DP.ipynb', '5) oops 2.ipynb', '6) oops 3.ipynb', '7) Object Oriented Programming and File IO.ipynb', 'Assignment_10.ipynb', 'Assignment_11.ipynb', 'Assignment_12.ipynb', 'Assignment_13.ipynb', 'Assignment_14.ipynb', 'Assignment_15.ipynb', 'Assignment_16.ipynb', 'Assignment_17.ipynb', 'Assignment_18.ipynb', 'Assignment_19.ipynb', 'Assignment_2.ipynb', 'Assignment_20.ipynb', 'Assignment_21.ipynb', 'Assignment_3.ipynb', 'Assignment_4.ipynb', 'Assignment_5.ipynb', 'Assignment_6.ipynb', 'Assignment_7.ipynb', 'Assignment_8.ipynb', 'Assignment_9.ipynb', 'books.csv', 'books.db', 'Exceptional handling file.ipynb', 'flask_demo', 'oops 2.ipynb', 'Practise file.ipynb', 'Recorded files', 'test.txt', 'today', 'Untitled.ipynb', 'Untitled1.ipynb', 'zoo.py', '__pycache__']\n"
     ]
    }
   ],
   "source": [
    "#Q4.List the files in your current directory\n",
    "import os\n",
    "arr = os.listdir('.')\n",
    "print(arr)"
   ]
  },
  {
   "cell_type": "code",
   "execution_count": 8,
   "id": "2f73f16c",
   "metadata": {},
   "outputs": [
    {
     "name": "stdout",
     "output_type": "stream",
     "text": [
      "['.DS_Store', '.ipynb_checkpoints', '._.DS_Store', '1) Basics_1.ipynb', '19.2.MySQL', '19.3 MongoDB', '2) Tuples,Sets and Dicts.ipynb', '3) OOPS.ipynb', '4) Modules,EH and DP.ipynb', '5) oops 2.ipynb', '6) oops 3.ipynb', '7) Object Oriented Programming and File IO.ipynb', 'Assignment_10.ipynb', 'Assignment_11.ipynb', 'Assignment_12.ipynb', 'Assignment_13.ipynb', 'Assignment_14.ipynb', 'Assignment_15.ipynb', 'Assignment_16.ipynb', 'Assignment_17.ipynb', 'Assignment_18.ipynb', 'Assignment_19.ipynb', 'Assignment_2.ipynb', 'Assignment_20.ipynb', 'Assignment_21.ipynb', 'Assignment_3.ipynb', 'Assignment_4.ipynb', 'Assignment_5.ipynb', 'Assignment_6.ipynb', 'Assignment_7.ipynb', 'Assignment_8.ipynb', 'Assignment_9.ipynb', 'books.csv', 'books.db', 'Exceptional handling file.ipynb', 'flask_demo', 'oops 2.ipynb', 'Practise file.ipynb', 'Recorded files', 'test.txt', 'today', 'Untitled.ipynb', 'Untitled1.ipynb', 'zoo.py', '__pycache__']\n"
     ]
    }
   ],
   "source": [
    "#Q5.Create a list of all of the files in your parent directory (minimum five files should be available).\n",
    "print(list(arr))"
   ]
  },
  {
   "cell_type": "code",
   "execution_count": 9,
   "id": "2ed5193a",
   "metadata": {},
   "outputs": [
    {
     "name": "stdout",
     "output_type": "stream",
     "text": [
      "main line\n",
      "module name: __main__\n",
      "parent process: 26600\n",
      "process id: 33004\n"
     ]
    }
   ],
   "source": [
    "#Q6.Use multiprocessing to create three separate processes. \n",
    "#Make each one wait a random number of seconds between one and five, print the current time, and then exit.\n",
    "\n",
    "from multiprocessing import Process\n",
    "import os\n",
    "\n",
    "def info(title):\n",
    "    print(title)\n",
    "    print('module name:', __name__)\n",
    "    print('parent process:', os.getppid())\n",
    "    print('process id:', os.getpid())\n",
    "\n",
    "def f(name):\n",
    "    info('function f')\n",
    "    print('hello', name)\n",
    "\n",
    "if __name__ == '__main__':\n",
    "    info('main line')\n",
    "    p = Process(target=f, args=('bob',))\n",
    "    p.start()\n",
    "    p.join()"
   ]
  },
  {
   "cell_type": "code",
   "execution_count": 12,
   "id": "ca80824d",
   "metadata": {},
   "outputs": [
    {
     "data": {
      "text/plain": [
       "datetime.date(1995, 7, 12)"
      ]
     },
     "execution_count": 12,
     "metadata": {},
     "output_type": "execute_result"
    }
   ],
   "source": [
    "#Q7.Create a date object of your day of birth.\n",
    "\n",
    "my_day = date(1995, 7, 12)\n",
    "my_day"
   ]
  },
  {
   "cell_type": "code",
   "execution_count": 13,
   "id": "fdff5b7f",
   "metadata": {},
   "outputs": [
    {
     "data": {
      "text/plain": [
       "2"
      ]
     },
     "execution_count": 13,
     "metadata": {},
     "output_type": "execute_result"
    }
   ],
   "source": [
    "#Q8.What day of the week was your day of birth?\n",
    "\n",
    "my_day.weekday()"
   ]
  },
  {
   "cell_type": "code",
   "execution_count": 14,
   "id": "0797fa67",
   "metadata": {},
   "outputs": [
    {
     "data": {
      "text/plain": [
       "3"
      ]
     },
     "execution_count": 14,
     "metadata": {},
     "output_type": "execute_result"
    }
   ],
   "source": [
    "my_day.isoweekday()\n",
    "#With weekday(), Monday is 0 and Sunday is 6. With isoweekday(), Monday is 1 and Sunday is 7. \n",
    "#Therefore, this date was a Saturday."
   ]
  },
  {
   "cell_type": "code",
   "execution_count": 15,
   "id": "72f65f0d",
   "metadata": {},
   "outputs": [
    {
     "data": {
      "text/plain": [
       "datetime.date(2022, 11, 27)"
      ]
     },
     "execution_count": 15,
     "metadata": {},
     "output_type": "execute_result"
    }
   ],
   "source": [
    "#Q9.When will you be (or when were you) 10,000 days old?\n",
    "\n",
    "\n",
    "from datetime import timedelta\n",
    "party_day = my_day + timedelta(days=10000)\n",
    "party_day"
   ]
  },
  {
   "cell_type": "code",
   "execution_count": null,
   "id": "33436340",
   "metadata": {},
   "outputs": [],
   "source": []
  }
 ],
 "metadata": {
  "kernelspec": {
   "display_name": "Python 3",
   "language": "python",
   "name": "python3"
  },
  "language_info": {
   "codemirror_mode": {
    "name": "ipython",
    "version": 3
   },
   "file_extension": ".py",
   "mimetype": "text/x-python",
   "name": "python",
   "nbconvert_exporter": "python",
   "pygments_lexer": "ipython3",
   "version": "3.8.8"
  }
 },
 "nbformat": 4,
 "nbformat_minor": 5
}
