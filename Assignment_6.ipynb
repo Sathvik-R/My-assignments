{
 "cells": [
  {
   "cell_type": "code",
   "execution_count": null,
   "id": "e0bf68e7",
   "metadata": {},
   "outputs": [],
   "source": [
    "#1.What are escape characters, and how do you use them?\n",
    "Escape character is a backslash \\ followed by the character one want to insert"
   ]
  },
  {
   "cell_type": "code",
   "execution_count": 1,
   "id": "dcc0123d",
   "metadata": {},
   "outputs": [
    {
     "ename": "SyntaxError",
     "evalue": "invalid syntax (<ipython-input-1-5883befaf014>, line 1)",
     "output_type": "error",
     "traceback": [
      "\u001b[0;36m  File \u001b[0;32m\"<ipython-input-1-5883befaf014>\"\u001b[0;36m, line \u001b[0;32m1\u001b[0m\n\u001b[0;31m    l = \"this is about \"escape\" charater\"\u001b[0m\n\u001b[0m                        ^\u001b[0m\n\u001b[0;31mSyntaxError\u001b[0m\u001b[0;31m:\u001b[0m invalid syntax\n"
     ]
    }
   ],
   "source": [
    "l = \"this is about \"escape\" charater\""
   ]
  },
  {
   "cell_type": "code",
   "execution_count": null,
   "id": "bd49a0c0",
   "metadata": {},
   "outputs": [],
   "source": [
    "double quote inside a string that is surrounded by double quotes is illegal and gives above error,\n",
    "in this case escape character helps to resolve the issue"
   ]
  },
  {
   "cell_type": "code",
   "execution_count": null,
   "id": "d133f2bf",
   "metadata": {},
   "outputs": [],
   "source": [
    "l = \"this is about \\\"escape\\\" charater\"\n",
    "l"
   ]
  },
  {
   "cell_type": "code",
   "execution_count": null,
   "id": "25395be3",
   "metadata": {},
   "outputs": [],
   "source": [
    "Other escape characters used in Python: \n",
    "\\n, \\r, \\t, \\b\n"
   ]
  },
  {
   "cell_type": "code",
   "execution_count": null,
   "id": "12b893bf",
   "metadata": {},
   "outputs": [],
   "source": [
    "#2.What do the escape characters n and t stand for?\n",
    "\\n can be used in string as escape character and the string present after it will go for new line"
   ]
  },
  {
   "cell_type": "code",
   "execution_count": 2,
   "id": "e6c7ba65",
   "metadata": {},
   "outputs": [
    {
     "name": "stdout",
     "output_type": "stream",
     "text": [
      "this is about\n",
      "\"escape\" charater\n"
     ]
    }
   ],
   "source": [
    "l = \"this is about\\n\\\"escape\\\" charater\"\n",
    "print(l)"
   ]
  },
  {
   "cell_type": "code",
   "execution_count": 3,
   "id": "7aba6a38",
   "metadata": {},
   "outputs": [
    {
     "name": "stdout",
     "output_type": "stream",
     "text": [
      "this is about\t\"escape\" charater\n"
     ]
    }
   ],
   "source": [
    "l = \"this is about\\t\\\"escape\\\" charater\"\n",
    "print(l)"
   ]
  },
  {
   "cell_type": "code",
   "execution_count": null,
   "id": "b03c28ae",
   "metadata": {},
   "outputs": [],
   "source": [
    "\\n can be used in string as escape character and the string present after it will be tab separated"
   ]
  },
  {
   "cell_type": "code",
   "execution_count": 4,
   "id": "ffe204c4",
   "metadata": {},
   "outputs": [
    {
     "name": "stdout",
     "output_type": "stream",
     "text": [
      "this is about \"escape\" charater\n"
     ]
    }
   ],
   "source": [
    "#3.What is the way to include backslash characters in a string?\n",
    "l = \"this is about \\\"escape\\\" charater\"\n",
    "print(l)"
   ]
  },
  {
   "cell_type": "code",
   "execution_count": 5,
   "id": "c6ed30ad",
   "metadata": {},
   "outputs": [
    {
     "name": "stdout",
     "output_type": "stream",
     "text": [
      "Howl's Moving Castle\n"
     ]
    }
   ],
   "source": [
    "#4.The string \"Howl's Moving Castle\" is a correct value. Why isn't the single quote character in the word Howl's not escaped a problem?\n",
    "l = \"Howl's Moving Castle\"\n",
    "print(l)"
   ]
  },
  {
   "cell_type": "code",
   "execution_count": 7,
   "id": "bcb0dc89",
   "metadata": {},
   "outputs": [
    {
     "name": "stdout",
     "output_type": "stream",
     "text": [
      "Ineuron \n",
      "course \n",
      "ML and DL\n"
     ]
    }
   ],
   "source": [
    "#5.How do you write a string of newlines if you don't want to use the n character?\n",
    "l = \"\"\"Ineuron \n",
    "course \n",
    "ML and DL\"\"\"\n",
    "print(l)"
   ]
  },
  {
   "cell_type": "code",
   "execution_count": null,
   "id": "7bb8dae9",
   "metadata": {},
   "outputs": [],
   "source": [
    "Using \"\"\"\"\"\""
   ]
  },
  {
   "cell_type": "code",
   "execution_count": null,
   "id": "e7013681",
   "metadata": {},
   "outputs": [],
   "source": [
    "#6.What are the values of the given expressions?\n",
    "#'Hello, world!'[1]\n",
    "#'Hello, world!'[0:5]\n",
    "#'Hello, world!'[:5]\n",
    "#'Hello, world!'[3:]\n"
   ]
  },
  {
   "cell_type": "code",
   "execution_count": 8,
   "id": "99bfc8d2",
   "metadata": {},
   "outputs": [
    {
     "name": "stdout",
     "output_type": "stream",
     "text": [
      "e\n",
      "Hello\n",
      "Hello\n",
      "lo, world!\n"
     ]
    }
   ],
   "source": [
    "print('Hello, world!'[1])\n",
    "print('Hello, world!'[0:5])\n",
    "print('Hello, world!'[:5])\n",
    "print('Hello, world!'[3:])\n"
   ]
  },
  {
   "cell_type": "code",
   "execution_count": null,
   "id": "21ff4989",
   "metadata": {},
   "outputs": [],
   "source": [
    "#7.What are the values of the following expressions?\n",
    "#'Hello'.upper()\n",
    "#'Hello'.upper().isupper()\n",
    "#'Hello'.upper().lower()\n"
   ]
  },
  {
   "cell_type": "code",
   "execution_count": 9,
   "id": "2575308a",
   "metadata": {},
   "outputs": [
    {
     "name": "stdout",
     "output_type": "stream",
     "text": [
      "HELLO\n",
      "True\n",
      "hello\n"
     ]
    }
   ],
   "source": [
    "print('Hello'.upper())\n",
    "print('Hello'.upper().isupper())\n",
    "print('Hello'.upper().lower())"
   ]
  },
  {
   "cell_type": "code",
   "execution_count": null,
   "id": "5c9c7407",
   "metadata": {},
   "outputs": [],
   "source": [
    "8. What are the values of the following expressions?\n",
    "#'Remember, remember, the fifth of July.'.split()\n",
    "#'-'.join('There can only one.'.split())\n"
   ]
  },
  {
   "cell_type": "code",
   "execution_count": 11,
   "id": "c49636c5",
   "metadata": {},
   "outputs": [
    {
     "name": "stdout",
     "output_type": "stream",
     "text": [
      "['Remember,', 'remember,', 'the', 'fifth', 'of', 'July.']\n",
      "There-can-only-one.\n"
     ]
    }
   ],
   "source": [
    "print('Remember, remember, the fifth of July.'.split())\n",
    "print('-'.join('There can only one.'.split()))"
   ]
  },
  {
   "cell_type": "code",
   "execution_count": 12,
   "id": "4a44b912",
   "metadata": {},
   "outputs": [
    {
     "name": "stdout",
     "output_type": "stream",
     "text": [
      "sai krishna$$$$$$$$$$$$$$$$$$$ 30\n"
     ]
    }
   ],
   "source": [
    "#9.What are the methods for right-justifying, left-justifying, and centering a string?\n",
    "l = 'sai krishna'.ljust(30,'$')\n",
    "print(l, len(l))"
   ]
  },
  {
   "cell_type": "code",
   "execution_count": 13,
   "id": "82867b82",
   "metadata": {},
   "outputs": [
    {
     "name": "stdout",
     "output_type": "stream",
     "text": [
      "$$$$$$$$$$$$$$$$$$$sai krishna 30\n"
     ]
    }
   ],
   "source": [
    "r = 'sai krishna'.rjust(30,'$')\n",
    "print(r, len(r))"
   ]
  },
  {
   "cell_type": "code",
   "execution_count": 14,
   "id": "eb7d56b5",
   "metadata": {},
   "outputs": [
    {
     "name": "stdout",
     "output_type": "stream",
     "text": [
      "$$$$$$$$$sai krishna$$$$$$$$$$ 30\n"
     ]
    }
   ],
   "source": [
    "c = 'sai krishna'.center(30,'$')\n",
    "print(c, len(c))"
   ]
  },
  {
   "cell_type": "code",
   "execution_count": null,
   "id": "7d61d227",
   "metadata": {},
   "outputs": [],
   "source": []
  }
 ],
 "metadata": {
  "kernelspec": {
   "display_name": "Python 3",
   "language": "python",
   "name": "python3"
  },
  "language_info": {
   "codemirror_mode": {
    "name": "ipython",
    "version": 3
   },
   "file_extension": ".py",
   "mimetype": "text/x-python",
   "name": "python",
   "nbconvert_exporter": "python",
   "pygments_lexer": "ipython3",
   "version": "3.8.8"
  }
 },
 "nbformat": 4,
 "nbformat_minor": 5
}
