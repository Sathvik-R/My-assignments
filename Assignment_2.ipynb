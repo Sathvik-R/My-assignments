{
 "cells": [
  {
   "cell_type": "code",
   "execution_count": 2,
   "id": "ae008213",
   "metadata": {},
   "outputs": [],
   "source": [
    "import numpy as np\n",
    "import pandas as pd\n"
   ]
  },
  {
   "cell_type": "code",
   "execution_count": null,
   "id": "2e4151c6",
   "metadata": {},
   "outputs": [],
   "source": [
    "#1.What are the Boolean data type's two values? How do you go about writing them? \n",
    "0-False \n",
    "1-True "
   ]
  },
  {
   "cell_type": "code",
   "execution_count": null,
   "id": "13384be6",
   "metadata": {},
   "outputs": [],
   "source": [
    "#2.What are the three different types of Boolean operators?\n",
    "The AND operator (&& or “and”)\n",
    "• The OR operator (|| or “or”) \n",
    "• The NOT operator (not)"
   ]
  },
  {
   "cell_type": "code",
   "execution_count": 27,
   "id": "6ca8a91c",
   "metadata": {},
   "outputs": [
    {
     "name": "stdout",
     "output_type": "stream",
     "text": [
      "0 0 0 1\n",
      "0 1 1 1\n",
      "True False False True\n"
     ]
    }
   ],
   "source": [
    "#3.Make a list of each Boolean operator's truth tables (i.e. every possible combination of Boolean values for the operator and what it evaluate ). \n",
    "print (0 & 0 , 0 & 1, 1 & 0 , 1 & 1)\n",
    "print(0 | 0 , 0 | 1, 1 | 0 , 1 | 1)\n",
    "print(not 0,not 1,not True,not False)"
   ]
  },
  {
   "cell_type": "code",
   "execution_count": null,
   "id": "aa0e0af1",
   "metadata": {},
   "outputs": [],
   "source": [
    "#4.What are the values of the following expressions?\n",
    "(5 > 4) and (3 == 5) - False \n",
    "not (5 > 4)- False \n",
    "(5 > 4) or (3 == 5)- True \n",
    "not ((5 > 4) or (3 == 5))- False \n",
    "(True and True) and (True == False) -False \n",
    "(not False) or (not True)-True"
   ]
  },
  {
   "cell_type": "code",
   "execution_count": 29,
   "id": "e4ee6acc",
   "metadata": {},
   "outputs": [
    {
     "ename": "SyntaxError",
     "evalue": "invalid syntax (<ipython-input-29-8815df3c371d>, line 2)",
     "output_type": "error",
     "traceback": [
      "\u001b[0;36m  File \u001b[0;32m\"<ipython-input-29-8815df3c371d>\"\u001b[0;36m, line \u001b[0;32m2\u001b[0m\n\u001b[0;31m    Arithmetic operators\u001b[0m\n\u001b[0m               ^\u001b[0m\n\u001b[0;31mSyntaxError\u001b[0m\u001b[0;31m:\u001b[0m invalid syntax\n"
     ]
    }
   ],
   "source": [
    "#5.What are the six comparison operators?\n",
    "Arithmetic operators\n",
    "Assignment operators\n",
    "Comparison operators\n",
    "Logical operators\n",
    "Identity operators\n",
    "Membership operators\n",
    "Bitwise operators"
   ]
  },
  {
   "cell_type": "code",
   "execution_count": null,
   "id": "8f5fcbd8",
   "metadata": {},
   "outputs": [],
   "source": [
    "#6.How do you tell the difference between the equal to and assignment operators?Describe a condition and when you would use one.\n",
    "== - equal to operator \n",
    "= - Assignment operator\n",
    "\n"
   ]
  },
  {
   "cell_type": "code",
   "execution_count": 23,
   "id": "9c8bd6df",
   "metadata": {},
   "outputs": [
    {
     "name": "stdout",
     "output_type": "stream",
     "text": [
      "values 10 and 10 are equal\n"
     ]
    }
   ],
   "source": [
    "#condition: to check if the values in both variables are equal or not\n",
    "a = 10\n",
    "b = 10\n",
    "if a == b:\n",
    "    print(\"values {} and {} are equal\".format(a,b))\n",
    "else:\n",
    "    print(\"values {} and {} are not equal\".format(a,b))"
   ]
  },
  {
   "cell_type": "code",
   "execution_count": 24,
   "id": "47da982b",
   "metadata": {},
   "outputs": [
    {
     "name": "stdout",
     "output_type": "stream",
     "text": [
      "Sudhanshu\n"
     ]
    }
   ],
   "source": [
    "#condition : to assign a value to variable professor \n",
    "professor = \"Sudhanshu\"\n",
    "print(professor)"
   ]
  },
  {
   "cell_type": "code",
   "execution_count": null,
   "id": "487c06d9",
   "metadata": {},
   "outputs": [],
   "source": [
    "#7.Identify the three blocks in this code:\n",
    "A block of code is composed of several statements that are intended to execute when certain condition is met.\n",
    "In Python, a block of code is implemented using indentation\n"
   ]
  },
  {
   "cell_type": "code",
   "execution_count": 30,
   "id": "38ee2cc8",
   "metadata": {},
   "outputs": [
    {
     "name": "stdout",
     "output_type": "stream",
     "text": [
      "spam\n"
     ]
    }
   ],
   "source": [
    "spam = 0\n",
    "if spam == 10: # block 1\n",
    "    print('eggs')\n",
    "    if spam > 5: # block 2\n",
    "        print('bacon')\n",
    "    else: # block 3\n",
    "        print('ham')\n",
    "    print('spam')\n",
    "print('spam')"
   ]
  },
  {
   "cell_type": "code",
   "execution_count": 15,
   "id": "6141e924",
   "metadata": {},
   "outputs": [
    {
     "name": "stdout",
     "output_type": "stream",
     "text": [
      "Enter the spam value: 3\n",
      "Greetings\n"
     ]
    }
   ],
   "source": [
    "#8.Write code that prints Hello if 1 is stored in spam, prints Howdy if 2 is stored in spam, and prints Greetings! if anything else is stored in spam.\n",
    "\n",
    "spam = int(input(\"Enter the spam value: \"))\n",
    "if spam == 1:\n",
    "     print(\"Hello\")\n",
    "elif spam == 2:\n",
    "     print(\"Howdy\")\n",
    "else:\n",
    "    print(\"Greetings!\")"
   ]
  },
  {
   "cell_type": "code",
   "execution_count": null,
   "id": "527ef84e",
   "metadata": {},
   "outputs": [],
   "source": [
    "#9.If your programme is stuck in an endless loop, what keys you’ll press?\n",
    "ctrl + c"
   ]
  },
  {
   "cell_type": "code",
   "execution_count": null,
   "id": "db944bdf",
   "metadata": {},
   "outputs": [],
   "source": [
    "#10.How can you tell the difference between break and continue?\n",
    "Break statement resumes the control of the program to the end of loop and makes executional flow outside that loop. \n",
    "Continue statement resumes the control of the program to the next iteration of that loop enclosing 'continue' and makes executional flow inside the loop again.\n",
    "In Short:\n",
    "The break statement terminates the whole iteration of a loop whereas continue skips the current iteration."
   ]
  },
  {
   "cell_type": "code",
   "execution_count": 32,
   "id": "ba8c19fa",
   "metadata": {},
   "outputs": [
    {
     "name": "stdout",
     "output_type": "stream",
     "text": [
      "0,1,2,3,4,5,6,7,8,9,\n",
      "\n",
      "0,1,2,3,4,5,6,7,8,9,\n",
      "\n",
      "0,1,2,3,4,5,6,7,8,9,"
     ]
    }
   ],
   "source": [
    "#11.In a for loop, what is the difference between range(10), range(0, 10), and range(0, 10, 1)?\n",
    "#All results in same output\n",
    "\n",
    "for i in range(10):\n",
    "    print(i,end=',')\n",
    "print('\\n')\n",
    "for j in range(0,10):\n",
    "    print(j,end=',')\n",
    "print('\\n')\n",
    "for k in range(0,10,1):\n",
    "    print(k,end=',')"
   ]
  },
  {
   "cell_type": "code",
   "execution_count": 22,
   "id": "26a37e52",
   "metadata": {},
   "outputs": [
    {
     "name": "stdout",
     "output_type": "stream",
     "text": [
      "1\n",
      "2\n",
      "3\n",
      "4\n",
      "5\n",
      "6\n",
      "7\n",
      "8\n",
      "9\n",
      "10\n",
      "-------\n",
      "1\n",
      "2\n",
      "3\n",
      "4\n",
      "5\n",
      "6\n",
      "7\n",
      "8\n",
      "9\n",
      "10\n"
     ]
    }
   ],
   "source": [
    "#12. Write a short program that prints the numbers 1 to 10 using a for loop. Then write an equivalent program that prints the numbers 1 to 10 using a while loop.\n",
    "for i in range(1,11):\n",
    "    print(i)\n",
    "print('-------')\n",
    "i = 1\n",
    "while i < 11:\n",
    "    print(i)\n",
    "    i += 1"
   ]
  },
  {
   "cell_type": "code",
   "execution_count": null,
   "id": "5e02ddb2",
   "metadata": {},
   "outputs": [],
   "source": [
    "#13. If you had a function named bacon() inside a module named spam, how would you call it after importing spam?\n",
    "from spam import bacon"
   ]
  }
 ],
 "metadata": {
  "kernelspec": {
   "display_name": "Python 3",
   "language": "python",
   "name": "python3"
  },
  "language_info": {
   "codemirror_mode": {
    "name": "ipython",
    "version": 3
   },
   "file_extension": ".py",
   "mimetype": "text/x-python",
   "name": "python",
   "nbconvert_exporter": "python",
   "pygments_lexer": "ipython3",
   "version": "3.8.8"
  }
 },
 "nbformat": 4,
 "nbformat_minor": 5
}
