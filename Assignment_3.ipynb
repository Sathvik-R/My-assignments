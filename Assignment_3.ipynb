{
 "cells": [
  {
   "cell_type": "code",
   "execution_count": null,
   "id": "5fcfe588",
   "metadata": {},
   "outputs": [],
   "source": [
    "#1.Why are functions advantageous to have in your programs?\n",
    "Avoid repetition of codes.\n",
    "Increases program readability.\n",
    "Divide a complex problem into simpler ones.\n",
    "Reduces chances of error.\n",
    "Modifying a program becomes easier by using function."
   ]
  },
  {
   "cell_type": "code",
   "execution_count": null,
   "id": "6b690cc3",
   "metadata": {},
   "outputs": [],
   "source": [
    "#2.When does the code in a function run: when it's specified or when it's called?\n",
    "function code will run only when it is called , below sum_values function code will run when it is called"
   ]
  },
  {
   "cell_type": "code",
   "execution_count": 1,
   "id": "0ce06abe",
   "metadata": {},
   "outputs": [
    {
     "name": "stdout",
     "output_type": "stream",
     "text": [
      "7\n"
     ]
    }
   ],
   "source": [
    "def sum_values(a,b):\n",
    "    print(a+b)\n",
    "\n",
    "sum_values(3,4)"
   ]
  },
  {
   "cell_type": "code",
   "execution_count": null,
   "id": "8b28d08d",
   "metadata": {},
   "outputs": [],
   "source": [
    "#3.What statement creates a function?\n",
    "The “def” keyword is a statement for defining a function in Python"
   ]
  },
  {
   "cell_type": "code",
   "execution_count": null,
   "id": "ae275ba7",
   "metadata": {},
   "outputs": [],
   "source": [
    "#4.What is the difference between a function and a function call?\n",
    "A function is procedure to achieve a particular result while function call is using \n",
    "this function to achive that task."
   ]
  },
  {
   "cell_type": "code",
   "execution_count": null,
   "id": "c5e78e5f",
   "metadata": {},
   "outputs": [],
   "source": [
    "#5.How many global scopes are there in a Python program? How many local scopes?\n",
    "There's only one global Python scope per program execution. \n",
    "This scope remains in existence until the program terminates and all its names are forgotten. \n",
    "Otherwise, the next time when the program is  run,\n",
    "the names would remember their values from the previous run\n",
    "\n",
    "\n",
    "There can be multiple local scopes"
   ]
  },
  {
   "cell_type": "code",
   "execution_count": null,
   "id": "8bd08c45",
   "metadata": {},
   "outputs": [],
   "source": [
    "#6.What happens to variables in a local scope when the function call returns?\n",
    "variables in the local scope will not exist anymore when function call returns, \n",
    "in the below example local variables c and d will not exist after the function call returns"
   ]
  },
  {
   "cell_type": "code",
   "execution_count": 2,
   "id": "43bbbd2b",
   "metadata": {},
   "outputs": [
    {
     "name": "stdout",
     "output_type": "stream",
     "text": [
      "7\n",
      "3\n",
      "0\n",
      "1\n"
     ]
    },
    {
     "ename": "NameError",
     "evalue": "name 'c' is not defined",
     "output_type": "error",
     "traceback": [
      "\u001b[0;31m---------------------------------------------------------------------------\u001b[0m",
      "\u001b[0;31mNameError\u001b[0m                                 Traceback (most recent call last)",
      "\u001b[0;32m<ipython-input-2-dd4423bcb307>\u001b[0m in \u001b[0;36m<module>\u001b[0;34m\u001b[0m\n\u001b[1;32m     20\u001b[0m \u001b[0;34m\u001b[0m\u001b[0m\n\u001b[1;32m     21\u001b[0m \u001b[0;31m# c and d don't exist anymore -- these statements will give us name errors!\u001b[0m\u001b[0;34m\u001b[0m\u001b[0;34m\u001b[0m\u001b[0;34m\u001b[0m\u001b[0m\n\u001b[0;32m---> 22\u001b[0;31m \u001b[0mprint\u001b[0m\u001b[0;34m(\u001b[0m\u001b[0mc\u001b[0m\u001b[0;34m)\u001b[0m\u001b[0;34m\u001b[0m\u001b[0;34m\u001b[0m\u001b[0m\n\u001b[0m\u001b[1;32m     23\u001b[0m \u001b[0mprint\u001b[0m\u001b[0;34m(\u001b[0m\u001b[0md\u001b[0m\u001b[0;34m)\u001b[0m\u001b[0;34m\u001b[0m\u001b[0;34m\u001b[0m\u001b[0m\n",
      "\u001b[0;31mNameError\u001b[0m: name 'c' is not defined"
     ]
    }
   ],
   "source": [
    "# This is a global variable\n",
    "a = 0\n",
    "\n",
    "if a == 0:\n",
    "    # This is still a global variable\n",
    "    b = 1\n",
    "\n",
    "def my_function(c):\n",
    "    # this is a local variable\n",
    "    d = 3\n",
    "    print(c)\n",
    "    print(d)\n",
    "\n",
    "# Now we call the function, passing the value 7 as the first and only parameter\n",
    "my_function(7)\n",
    "\n",
    "# a and b still exist\n",
    "print(a)\n",
    "print(b)\n",
    "\n",
    "# c and d don't exist anymore -- these statements will give us name errors!\n",
    "print(c)\n",
    "print(d)"
   ]
  },
  {
   "cell_type": "code",
   "execution_count": null,
   "id": "ee78228f",
   "metadata": {},
   "outputs": [],
   "source": [
    "#7.What is the concept of a return value? Is it possible to have a return value in an expression?\n",
    "\n",
    "A function takes arguments (if any), performs some operations, and returns a value (or object). \n",
    "The value that a function returns to the caller is generally known as the function's return value. \n",
    "All Python functions have a return value, either explicit or implicit\n",
    "\n",
    "Yes it is possible to return value in an expression , in the below example returning the sum of c and d local variable\n",
    "as a expression"
   ]
  },
  {
   "cell_type": "code",
   "execution_count": 3,
   "id": "142c791d",
   "metadata": {},
   "outputs": [
    {
     "name": "stdout",
     "output_type": "stream",
     "text": [
      "7\n"
     ]
    }
   ],
   "source": [
    "def my_function(c):\n",
    "    # this is a local variable\n",
    "    d = 3\n",
    "    return (c+d)\n",
    "print(my_function(4))"
   ]
  },
  {
   "cell_type": "code",
   "execution_count": null,
   "id": "d86976c0",
   "metadata": {},
   "outputs": [],
   "source": [
    "#8.If a function does not have a return statement, what is the return value of a call to that function?\n",
    "There are two types of return statements implicit and explicit return statements.\n",
    "A Python function will always have a return value.\n",
    "There is no notion of procedure or routine in Python. \n",
    "So, if one don’t explicitly use a return value in a return statement, \n",
    "or if one totally omit the return statement, then Python will implicitly \n",
    "return a default value for you. That default return value will always be None.\n",
    "\n",
    "in the below examples did not return any value hence the return value of call to a function is None"
   ]
  },
  {
   "cell_type": "code",
   "execution_count": 4,
   "id": "18cb4343",
   "metadata": {},
   "outputs": [
    {
     "name": "stdout",
     "output_type": "stream",
     "text": [
      "None\n"
     ]
    }
   ],
   "source": [
    "def my_function(c):\n",
    "    # this is a local variable\n",
    "    d = 3\n",
    "    #return (c+d)\n",
    "print(my_function(4))"
   ]
  },
  {
   "cell_type": "code",
   "execution_count": null,
   "id": "5ef306a0",
   "metadata": {},
   "outputs": [],
   "source": [
    "#9.How do you make a function variable refer to the global variable?\n",
    "\n",
    "If one want to refer to a global variable in a function, \n",
    "can use the global keyword to declare which variables are global"
   ]
  },
  {
   "cell_type": "code",
   "execution_count": 5,
   "id": "4df45182",
   "metadata": {},
   "outputs": [],
   "source": [
    "a = 10\n",
    "\n",
    "def sum_value(d):\n",
    "    global a \n",
    "    a = d\n",
    "    print(a)"
   ]
  },
  {
   "cell_type": "code",
   "execution_count": 6,
   "id": "e79fbfa9",
   "metadata": {},
   "outputs": [
    {
     "name": "stdout",
     "output_type": "stream",
     "text": [
      "5\n"
     ]
    }
   ],
   "source": [
    "sum_value(5)"
   ]
  },
  {
   "cell_type": "code",
   "execution_count": null,
   "id": "1bbd1fcf",
   "metadata": {},
   "outputs": [],
   "source": [
    "#10.What is the data type of None?\n",
    "None is a data type of its own (NoneType), The None keyword is used to define a null value, or no value at all."
   ]
  },
  {
   "cell_type": "code",
   "execution_count": 7,
   "id": "61dc2e1a",
   "metadata": {},
   "outputs": [
    {
     "ename": "ModuleNotFoundError",
     "evalue": "No module named 'areallyourpetsnamederic'",
     "output_type": "error",
     "traceback": [
      "\u001b[0;31m---------------------------------------------------------------------------\u001b[0m",
      "\u001b[0;31mModuleNotFoundError\u001b[0m                       Traceback (most recent call last)",
      "\u001b[0;32m<ipython-input-7-0d7cfce7fb08>\u001b[0m in \u001b[0;36m<module>\u001b[0;34m\u001b[0m\n\u001b[1;32m      1\u001b[0m \u001b[0;31m#11.What does the sentence import areallyourpetsnamederic do?\u001b[0m\u001b[0;34m\u001b[0m\u001b[0;34m\u001b[0m\u001b[0;34m\u001b[0m\u001b[0m\n\u001b[0;32m----> 2\u001b[0;31m \u001b[0;32mimport\u001b[0m \u001b[0mareallyourpetsnamederic\u001b[0m\u001b[0;34m\u001b[0m\u001b[0;34m\u001b[0m\u001b[0m\n\u001b[0m",
      "\u001b[0;31mModuleNotFoundError\u001b[0m: No module named 'areallyourpetsnamederic'"
     ]
    }
   ],
   "source": [
    "#11.What does the sentence import areallyourpetsnamederic do?\n",
    "import areallyourpetsnamederic"
   ]
  },
  {
   "cell_type": "code",
   "execution_count": null,
   "id": "0717e050",
   "metadata": {},
   "outputs": [],
   "source": [
    "As per this import areallyourpetsnamederic is valid  syntax to import a module ,\n",
    "but areallyourpetsnamederic is not a real python module"
   ]
  },
  {
   "cell_type": "code",
   "execution_count": null,
   "id": "af8c4786",
   "metadata": {},
   "outputs": [],
   "source": [
    "#12.If you had a bacon() feature in a spam module, what would you call it after importing spam?\n",
    "First we have to import bacon function/feauture from spam module and use or call it later\n",
    "\n",
    "from spam import bacon\n",
    "bacon()"
   ]
  },
  {
   "cell_type": "code",
   "execution_count": null,
   "id": "23628ded",
   "metadata": {},
   "outputs": [],
   "source": [
    "#13.What can you do to save a programme from crashing if it encounters an error?\n",
    "I will use exceptional handling concept when i want to save programme from crashing if it encounters an error\n",
    "\n",
    "In the below example a is not defined so while program execution handled the error and program execution didnot stop"
   ]
  },
  {
   "cell_type": "code",
   "execution_count": 11,
   "id": "6836af81",
   "metadata": {},
   "outputs": [
    {
     "name": "stdout",
     "output_type": "stream",
     "text": [
      "a is not equal to 10\n",
      "Hello all\n"
     ]
    }
   ],
   "source": [
    "try:\n",
    "    if a == 10:\n",
    "        print('{} is equal to 10'.format(a))\n",
    "    else:\n",
    "        print(\"a is not equal to 10\")\n",
    "except:\n",
    "    print(\"a is not defined in the program\")\n",
    "\n",
    "print(\"Hello all\")"
   ]
  },
  {
   "cell_type": "code",
   "execution_count": null,
   "id": "2c2a9eef",
   "metadata": {},
   "outputs": [],
   "source": [
    "#14.What is the purpose of the try clause? What is the purpose of the except clause?\n",
    "try clasue is used to write code which we think an exception or error might occur during the runtime\n",
    "\n",
    "except will be helpful to handle any exception/error occured in the try clause\n",
    "\n",
    "by using the try and except one can save a programme from crashing if it encounters an error"
   ]
  },
  {
   "cell_type": "code",
   "execution_count": null,
   "id": "d4b35ca7",
   "metadata": {},
   "outputs": [],
   "source": []
  }
 ],
 "metadata": {
  "kernelspec": {
   "display_name": "Python 3",
   "language": "python",
   "name": "python3"
  },
  "language_info": {
   "codemirror_mode": {
    "name": "ipython",
    "version": 3
   },
   "file_extension": ".py",
   "mimetype": "text/x-python",
   "name": "python",
   "nbconvert_exporter": "python",
   "pygments_lexer": "ipython3",
   "version": "3.8.8"
  }
 },
 "nbformat": 4,
 "nbformat_minor": 5
}
