{
 "cells": [
  {
   "cell_type": "code",
   "execution_count": null,
   "id": "e469ac64",
   "metadata": {},
   "outputs": [],
   "source": [
    "#1) In the below elements which of them are values or an expression?\n",
    "1) * = operator\n",
    "2) 'hello' = string(value)\n",
    "3) -87.8 = float(value)\n",
    "4) - = operator\n",
    "5) / = operator\n",
    "6) + = operator\n",
    "7) 6 = int(value)\n"
   ]
  },
  {
   "cell_type": "code",
   "execution_count": null,
   "id": "a5ea1a44",
   "metadata": {},
   "outputs": [],
   "source": [
    "#2) What is the difference between string and variable?\n",
    "String : It is a datatype which can hold alphabets and character values only.\n",
    "Eg:'hello' is a string\n",
    "    \n",
    "Variable: It stores values of types string,integer,float etc.\n",
    "Eg: course ='Data science' Here, course is variable and 'Data science' is a string    \n"
   ]
  },
  {
   "cell_type": "code",
   "execution_count": null,
   "id": "65b10aaa",
   "metadata": {},
   "outputs": [],
   "source": [
    "#3) Describe three different data types\n",
    "Data types can be Integer,Float,String,Complex Numbers,Boolean."
   ]
  },
  {
   "cell_type": "code",
   "execution_count": null,
   "id": "c6b33785",
   "metadata": {},
   "outputs": [],
   "source": [
    "#4) What is an expression made up of? What do all expressions do?\n",
    "Expressions are combinations of values and operators like an integer value,string value or could be an instance of a class.\n",
    "All expressions evaluate to a single value\n",
    "Eg: in spam = 10 10 is an expression.\n"
   ]
  },
  {
   "cell_type": "code",
   "execution_count": null,
   "id": "bad243b3",
   "metadata": {},
   "outputs": [],
   "source": [
    "#5) This assignment statements, like spam = 10. What is the difference between an expression and a statement?\n",
    "Expression contains only the value, but a statement contains more, an expression\n",
    "and a operator as well to form a complete statement code. When a statement is executed\n",
    "some output is expected whereas expression will be reduced to a single value.\n",
    "\n",
    "So in spam = 10 statement spam is a variable , ‘=’ is a an operator and 10 is an expression "
   ]
  },
  {
   "cell_type": "code",
   "execution_count": 1,
   "id": "ccdd5101",
   "metadata": {},
   "outputs": [
    {
     "name": "stdout",
     "output_type": "stream",
     "text": [
      "22\n"
     ]
    }
   ],
   "source": [
    "#6) After running the following code, what does the variable bacon contain?\n",
    "\n",
    "bacon = 22\n",
    "bacon+1\n",
    "print(bacon)\n",
    "#Here the bacon value is 22"
   ]
  },
  {
   "cell_type": "code",
   "execution_count": 6,
   "id": "085fabf2",
   "metadata": {},
   "outputs": [
    {
     "name": "stdout",
     "output_type": "stream",
     "text": [
      "spamspamspam\n",
      "spamspamspam\n"
     ]
    }
   ],
   "source": [
    "#7) What should the values of the following two terms be?\n",
    "print('spam'+'spamspam')\n",
    "print('spam'*3)"
   ]
  },
  {
   "cell_type": "code",
   "execution_count": null,
   "id": "d0d388c5",
   "metadata": {},
   "outputs": [],
   "source": [
    "#8) Why is eggs a valid variable name while 100 is invalid?\n",
    "As per the rules in python : A variable name cannot start with a number, hence 100 cannot be the variable name\n"
   ]
  },
  {
   "cell_type": "code",
   "execution_count": 11,
   "id": "1da1f846",
   "metadata": {},
   "outputs": [
    {
     "name": "stdout",
     "output_type": "stream",
     "text": [
      "<class 'int'>\n",
      "<class 'float'>\n",
      "<class 'str'>\n"
     ]
    }
   ],
   "source": [
    "#9) What three functions can be used to get the integer, floating-point number, or string version of a value?\n",
    "> int(), float(), and str() functions can be used to get the respective versions of a value.\n",
    "value_int = int(\"10\")\n",
    "print(type(value_int))\n",
    "value_float = float(\"10\")\n",
    "print(type(value_float))\n",
    "value_string = str(10)\n",
    "print(type(value_string))"
   ]
  },
  {
   "cell_type": "code",
   "execution_count": 15,
   "id": "ffdd18ec",
   "metadata": {},
   "outputs": [
    {
     "name": "stdout",
     "output_type": "stream",
     "text": [
      "I have eaten 99 burritos.\n"
     ]
    }
   ],
   "source": [
    "# 10) Why does this expression cause an error? How can you fix it?\n",
    "# ('I have eaten'  + 99 + 'burritos.')\n",
    "To fix the above statement, we shall type cast the integer to string using below code:\n",
    "print('I have eaten ' +str(99) +' burritos.')\n"
   ]
  }
 ],
 "metadata": {
  "kernelspec": {
   "display_name": "Python 3",
   "language": "python",
   "name": "python3"
  },
  "language_info": {
   "codemirror_mode": {
    "name": "ipython",
    "version": 3
   },
   "file_extension": ".py",
   "mimetype": "text/x-python",
   "name": "python",
   "nbconvert_exporter": "python",
   "pygments_lexer": "ipython3",
   "version": "3.8.8"
  }
 },
 "nbformat": 4,
 "nbformat_minor": 5
}
