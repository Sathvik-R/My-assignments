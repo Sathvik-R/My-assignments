{
 "cells": [
  {
   "cell_type": "code",
   "execution_count": 1,
   "id": "acbbd294",
   "metadata": {},
   "outputs": [],
   "source": [
    "#Q1.Set the variable test1 to the string 'This is a test of the emergency text system' and save test1 to a file named test.txt.\n",
    "\n",
    "test1 = 'This is a test of the emergency text system'\n",
    "outfile = open('test.txt', 'wt')\n",
    "\n",
    "outfile.write(test1)\n",
    "outfile.close()"
   ]
  },
  {
   "cell_type": "code",
   "execution_count": 2,
   "id": "2f692b2c",
   "metadata": {},
   "outputs": [],
   "source": [
    "#Q2.Read the contents of the file test.txt into the variable test2. Is there a difference between test 1 and test 2?\n",
    "#r=file.read('test.txt','r')\n",
    "#test2=r.read()\n",
    "\n",
    "with open('test.txt', 'rt') as infile:\n",
    "    test2 = infile.read()"
   ]
  },
  {
   "cell_type": "code",
   "execution_count": 3,
   "id": "c4623485",
   "metadata": {},
   "outputs": [
    {
     "data": {
      "text/plain": [
       "True"
      ]
     },
     "execution_count": 3,
     "metadata": {},
     "output_type": "execute_result"
    }
   ],
   "source": [
    "test1 == test2"
   ]
  },
  {
   "cell_type": "code",
   "execution_count": 4,
   "id": "fd156a37",
   "metadata": {},
   "outputs": [],
   "source": [
    "#Q3.Create a CSV file called books.csv by using these lines:\n",
    "#title,author,year\n",
    "#The Weirdstone of Brisingamen,Alan Garner,1960\n",
    "#Perdido Street Station,China Miéville,2000\n",
    "#Thud!,Terry Pratchett,2005\n",
    "#The Spellman Files,Lisa Lutz,2007\n",
    "#Small Gods,Terry Pratchett,1992\n",
    "\n",
    "text='''title,author,year\n",
    "The Weirdstone of Brisingamen,Alan Garner,1960\n",
    "Perdido Street Station,China Miéville,2000\n",
    "Thud!,Terry Pratchett,2005\n",
    "The Spellman Files,Lisa Lutz,2007\n",
    "Small Gods,Terry Pratchett,1992'''"
   ]
  },
  {
   "cell_type": "code",
   "execution_count": 9,
   "id": "e4d890a1",
   "metadata": {},
   "outputs": [],
   "source": [
    "with open('books2.csv', 'wt') as outfile:\n",
    "    outfile.write(text)"
   ]
  },
  {
   "cell_type": "code",
   "execution_count": 10,
   "id": "bc3488f0",
   "metadata": {},
   "outputs": [],
   "source": [
    "#Q4.Use the sqlite3 module to create a SQLite database called books.db, and a table called books with these fields: \n",
    "#title (text), author (text), and year (integer).\n",
    "\n",
    "import sqlite3\n",
    "db=sqlite3.connect('books2.db')\n",
    "curs=db.cursor()\n",
    "curs.execute('''create table books(title text, authour text, year int)''')\n",
    "db.commit()"
   ]
  },
  {
   "cell_type": "code",
   "execution_count": 18,
   "id": "516a3b5b",
   "metadata": {},
   "outputs": [],
   "source": [
    "#Q5.Read books.csv and insert its data into the book table.\n",
    "import csv\n",
    "import sqlite3\n",
    "\n",
    "ins_str = 'insert into books2 values(?, ?, ?)'\n"
   ]
  },
  {
   "cell_type": "code",
   "execution_count": 25,
   "id": "79ea60cb",
   "metadata": {},
   "outputs": [],
   "source": [
    "with open('books2.csv', 'rt') as infile:\n",
    "    books = csv.DictReader(infile)\n",
    "    for book in books:\n",
    "        curs.execute(ins_str, (books['title'], books['author'], books['year']))"
   ]
  },
  {
   "cell_type": "code",
   "execution_count": 28,
   "id": "bb107421",
   "metadata": {},
   "outputs": [],
   "source": [
    "#Q6.Select and print the title column from the book table in alphabetical order.\n",
    "sql = 'select title from books order by title asc'"
   ]
  },
  {
   "cell_type": "code",
   "execution_count": 29,
   "id": "0adf4934",
   "metadata": {},
   "outputs": [],
   "source": [
    "for row in db.execute(sql):\n",
    "    print(row)"
   ]
  },
  {
   "cell_type": "code",
   "execution_count": 30,
   "id": "a877f114",
   "metadata": {},
   "outputs": [],
   "source": [
    "for row in db.execute(sql):\n",
    "    print(row[0])"
   ]
  },
  {
   "cell_type": "code",
   "execution_count": 32,
   "id": "57afa555",
   "metadata": {},
   "outputs": [],
   "source": [
    "#Q7.From the book table, select and print all columns in the order of publication\n",
    "for row in db.execute('select * from books order by year'):\n",
    "    print(row)"
   ]
  },
  {
   "cell_type": "code",
   "execution_count": 33,
   "id": "6614e5df",
   "metadata": {},
   "outputs": [],
   "source": [
    "for row in db.execute('select * from books order by year'):\n",
    "    print(*row, sep=', ')"
   ]
  },
  {
   "cell_type": "code",
   "execution_count": 34,
   "id": "f349044a",
   "metadata": {},
   "outputs": [],
   "source": [
    "#Q8.Use the sqlalchemy module to connect to the sqlite3 database books.db that you just made in exercise 6.\n",
    "\n",
    "import sqlalchemy"
   ]
  },
  {
   "cell_type": "code",
   "execution_count": 35,
   "id": "71db84a9",
   "metadata": {},
   "outputs": [],
   "source": [
    "conn = sqlalchemy.create_engine('sqlite:///books2.db')"
   ]
  },
  {
   "cell_type": "code",
   "execution_count": 36,
   "id": "368aa298",
   "metadata": {},
   "outputs": [],
   "source": [
    "sql = 'select title from books order by title asc'"
   ]
  },
  {
   "cell_type": "code",
   "execution_count": 37,
   "id": "fd6a0b86",
   "metadata": {},
   "outputs": [],
   "source": [
    "rows = conn.execute(sql)"
   ]
  },
  {
   "cell_type": "code",
   "execution_count": 38,
   "id": "4754bf8a",
   "metadata": {},
   "outputs": [],
   "source": [
    "for row in rows:\n",
    "     print(row)"
   ]
  },
  {
   "cell_type": "code",
   "execution_count": 39,
   "id": "82c8ddca",
   "metadata": {},
   "outputs": [
    {
     "name": "stdout",
     "output_type": "stream",
     "text": [
      "Collecting redis\n",
      "  Downloading redis-3.5.3-py2.py3-none-any.whl (72 kB)\n",
      "Installing collected packages: redis\n",
      "Successfully installed redis-3.5.3\n"
     ]
    }
   ],
   "source": [
    "#Q9.Install the Redis server and the Python redis library (pip install redis) on your computer. \n",
    "#Create a Redis hash called test with the fields count (1) and name ('Fester Bestertester'). Print all the fields for test.\n",
    "\n",
    "\n",
    "!pip install redis"
   ]
  },
  {
   "cell_type": "code",
   "execution_count": 40,
   "id": "6f145cf5",
   "metadata": {},
   "outputs": [
    {
     "ename": "SyntaxError",
     "evalue": "invalid syntax (<ipython-input-40-8a8c1806f905>, line 1)",
     "output_type": "error",
     "traceback": [
      "\u001b[1;36m  File \u001b[1;32m\"<ipython-input-40-8a8c1806f905>\"\u001b[1;36m, line \u001b[1;32m1\u001b[0m\n\u001b[1;33m    import redis conn = redis.Redis() conn.delete('test') 1 conn.hmset('test', {'count': 1, 'name': 'Fester Bestertester'}) True conn.hgetall('test') {b'name': b'Fester Bestertester', b'count': b'1'}\u001b[0m\n\u001b[1;37m                 ^\u001b[0m\n\u001b[1;31mSyntaxError\u001b[0m\u001b[1;31m:\u001b[0m invalid syntax\n"
     ]
    }
   ],
   "source": [
    "import redis conn = redis.Redis() conn.delete('test') 1 conn.hmset('test', {'count': 1, 'name': 'Fester Bestertester'}) True conn.hgetall('test') {b'name': b'Fester Bestertester', b'count': b'1'}"
   ]
  },
  {
   "cell_type": "code",
   "execution_count": 41,
   "id": "722e814d",
   "metadata": {},
   "outputs": [
    {
     "ename": "SyntaxError",
     "evalue": "invalid syntax (<ipython-input-41-6359b6943887>, line 2)",
     "output_type": "error",
     "traceback": [
      "\u001b[1;36m  File \u001b[1;32m\"<ipython-input-41-6359b6943887>\"\u001b[1;36m, line \u001b[1;32m2\u001b[0m\n\u001b[1;33m    conn.hincrby('test', 'count', 3) 4 conn.hget('test', 'count') b'4'\u001b[0m\n\u001b[1;37m                                     ^\u001b[0m\n\u001b[1;31mSyntaxError\u001b[0m\u001b[1;31m:\u001b[0m invalid syntax\n"
     ]
    }
   ],
   "source": [
    "#Q10.Increment the count field of test and print it.\n",
    "conn.hincrby('test', 'count', 3) 4 conn.hget('test', 'count') b'4'"
   ]
  },
  {
   "cell_type": "code",
   "execution_count": null,
   "id": "edcc96f9",
   "metadata": {},
   "outputs": [],
   "source": []
  }
 ],
 "metadata": {
  "kernelspec": {
   "display_name": "Python 3",
   "language": "python",
   "name": "python3"
  },
  "language_info": {
   "codemirror_mode": {
    "name": "ipython",
    "version": 3
   },
   "file_extension": ".py",
   "mimetype": "text/x-python",
   "name": "python",
   "nbconvert_exporter": "python",
   "pygments_lexer": "ipython3",
   "version": "3.8.8"
  }
 },
 "nbformat": 4,
 "nbformat_minor": 5
}
