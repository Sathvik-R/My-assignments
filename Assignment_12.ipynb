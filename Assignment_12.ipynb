{
 "cells": [
  {
   "cell_type": "code",
   "execution_count": null,
   "id": "5d762b9a",
   "metadata": {},
   "outputs": [],
   "source": [
    "#Q1.In what modes should the PdfFileReader() and PdfFileWriter() File objects will be opened?\n",
    "Ans- Read-binary ('rb') for PdfFileReader() and write-binary ('wb') for PdfFileWriter()"
   ]
  },
  {
   "cell_type": "code",
   "execution_count": null,
   "id": "78bc1319",
   "metadata": {},
   "outputs": [],
   "source": [
    "#Q2.From a PdfFileReader object, how do you get a Page object for page 5?\n",
    "Ans- To extract text from a page, you need to get a Page object, which represents a single page of a PDF, \n",
    "     from a PdfFileReader object. You can get a Page object by calling the getPage() method  on a PdfFileReader \n",
    "    object and passing it the page number of the page you're interested in\n",
    "       OR\n",
    "Calling getPage(4) will return a Page object for page 5, since page 0 is the first page."
   ]
  },
  {
   "cell_type": "code",
   "execution_count": null,
   "id": "7dad8273",
   "metadata": {},
   "outputs": [],
   "source": [
    "#Q3.What PdfFileReader variable stores the number of pages in the PDF document?\n",
    "Ans- The total number of pages in the document is stored in the numPages attribute of a PdfFileReader object"
   ]
  },
  {
   "cell_type": "code",
   "execution_count": null,
   "id": "34be8666",
   "metadata": {},
   "outputs": [],
   "source": [
    "#Q4.If a PdfFileReader object’s PDF is encrypted with the password swordfish, what must you do\n",
    "#before you can obtain Page objects from it?\n",
    "Ans- Call decrypt('swordfish')"
   ]
  },
  {
   "cell_type": "code",
   "execution_count": null,
   "id": "cef3985b",
   "metadata": {},
   "outputs": [],
   "source": [
    "#Q5.What methods do you use to rotate a page?\n",
    "Ans- The rotateClockwise() and rotateCounterClockwise() methods. The degrees to rotate is passed as an integer argument.\n",
    "     OR\n",
    "import PyPDF2\n",
    "minutesFile = open('meetingminutes.pdf', 'rb')\n",
    "pdfReader = PyPDF2.PdfFileReader(minutesFile)\n",
    "page = pdfReader.getPage(0)\n",
    "page.rotateClockwise(90)"
   ]
  },
  {
   "cell_type": "code",
   "execution_count": null,
   "id": "64c61559",
   "metadata": {},
   "outputs": [],
   "source": [
    "#Q6.What is the difference between a Run object and a Paragraph object?\n",
    "Ans- A document contains multiple paragraphs. A paragraph begins on a new line and contains multiple runs. \n",
    "     Runs are contiguous groups of characters within a paragraph."
   ]
  },
  {
   "cell_type": "code",
   "execution_count": null,
   "id": "138314c1",
   "metadata": {},
   "outputs": [],
   "source": [
    "#Q7.How do you obtain a list of Paragraph objects for a Document object that’s stored in a variable named doc?\n",
    "Ans- Use doc.paragraphs"
   ]
  },
  {
   "cell_type": "code",
   "execution_count": null,
   "id": "cd44ae3e",
   "metadata": {},
   "outputs": [],
   "source": [
    "#Q8.What type of object has bold, underline, italic, strike, and outline variables?\n",
    "Ans- A Run object has these variables (not a Paragraph)."
   ]
  },
  {
   "cell_type": "code",
   "execution_count": null,
   "id": "810d5ceb",
   "metadata": {},
   "outputs": [],
   "source": [
    "#Q9.#What is the difference between False, True, and None for the bold variable?\n",
    "Ans- True always makes the Run object bolded and False makes it always not bolded, no matter what the style's bold setting is. \n",
    "     None will make the Run object just use the style's bold setting."
   ]
  },
  {
   "cell_type": "code",
   "execution_count": null,
   "id": "a1ab69ba",
   "metadata": {},
   "outputs": [],
   "source": [
    "#Q10.How do you create a Document object for a new Word document?\n",
    "Ans- Call the docx.Document() function."
   ]
  },
  {
   "cell_type": "code",
   "execution_count": null,
   "id": "de9a4fd0",
   "metadata": {},
   "outputs": [],
   "source": [
    "#Q11.How do you add a paragraph with the text 'Hello, there!' to a Document object stored in a variable named doc?\n",
    "doc.add_paragraph('Hello there!')"
   ]
  },
  {
   "cell_type": "code",
   "execution_count": null,
   "id": "358c02cb",
   "metadata": {},
   "outputs": [],
   "source": [
    "#Q12.What integers represent the levels of headings available in Word documents?\n",
    "The integers 0,1,2,3, and 4"
   ]
  }
 ],
 "metadata": {
  "kernelspec": {
   "display_name": "Python 3",
   "language": "python",
   "name": "python3"
  },
  "language_info": {
   "codemirror_mode": {
    "name": "ipython",
    "version": 3
   },
   "file_extension": ".py",
   "mimetype": "text/x-python",
   "name": "python",
   "nbconvert_exporter": "python",
   "pygments_lexer": "ipython3",
   "version": "3.8.8"
  }
 },
 "nbformat": 4,
 "nbformat_minor": 5
}
