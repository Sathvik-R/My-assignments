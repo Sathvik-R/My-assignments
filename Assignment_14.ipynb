{
 "cells": [
  {
   "cell_type": "code",
   "execution_count": null,
   "id": "2e67117b",
   "metadata": {},
   "outputs": [],
   "source": [
    "#Q1.What does RGBA stand for?\n",
    "Ans- An RGBA value is a tuple of 4 integers, each ranging from 0 to 255. The four integers correspond to the \n",
    "     amount of red, green, blue, and alpha (transparency) in the color."
   ]
  },
  {
   "cell_type": "code",
   "execution_count": null,
   "id": "20e62335",
   "metadata": {},
   "outputs": [],
   "source": [
    "#Q2.From the Pillow module, how do you get the RGBA value of any images?\n",
    "Ans- import the Image module from the Pillow library from PIL import Image\n",
    "     A function call to ImageColor.getcolor('CornflowerBlue', 'RGBA') will return (100, 149, 237, 255), the RGBA value for that color. \n",
    "   "
   ]
  },
  {
   "cell_type": "code",
   "execution_count": null,
   "id": "7bd8cd9b",
   "metadata": {},
   "outputs": [],
   "source": [
    "#Q3.What is a box tuple, and how does it work?\n",
    "Ans- The box. tuple submodule provides read-only access for the tuple userdata type. \n",
    "    It allows, for a single tuple: selective retrieval of the field contents, retrieval of information about size, iteration over all the fields, and conversion to a Lua table\n",
    "\n",
    "A box tuple is a tuple value of four integers: the left-edge x-coordinate, the top-edge y-coordinate, the width, and the height, respectively."
   ]
  },
  {
   "cell_type": "code",
   "execution_count": null,
   "id": "8605cf56",
   "metadata": {},
   "outputs": [],
   "source": [
    "#Q4.Use your image and load in notebook then, How can you find out the width and height of an Image object?\n",
    "#Import library\n",
    "Ans- imageObj.size is a tuple of two integers, the width and the height."
   ]
  },
  {
   "cell_type": "code",
   "execution_count": null,
   "id": "9a2d1ca2",
   "metadata": {},
   "outputs": [],
   "source": [
    "#Q5.What method would you call to get Image object for a 100×100 image, excluding the lower-left quarter of it?\n",
    "Ans- imageObj.crop((0, 50, 50, 50)). Notice that you are passing a box tuple to crop(), not four separate integer arguments."
   ]
  },
  {
   "cell_type": "code",
   "execution_count": null,
   "id": "c3c9cd69",
   "metadata": {},
   "outputs": [],
   "source": [
    "#Q6.After making changes to an Image object, how could you save it as an image file?\n",
    "Ans- Call the imageObj.save('new_filename.png') method of the Image object"
   ]
  },
  {
   "cell_type": "code",
   "execution_count": null,
   "id": "3d4cc2e1",
   "metadata": {},
   "outputs": [],
   "source": [
    "#Q7.What module contains Pillow’s shape-drawing code?\n",
    "Ans- Pillow provides a drawing module called ImageDraw that you can use to create simple 2D graphics on your Image objects. \n",
    "    According to Pillow's documentation, “you can use this module to create new images, annotate or retouch existing images, and to generate graphics on the fly for web use.”"
   ]
  },
  {
   "cell_type": "code",
   "execution_count": null,
   "id": "acfdbf49",
   "metadata": {},
   "outputs": [],
   "source": [
    "#Q8.Image objects do not have drawing methods. What kind of object does? How do you get this kind of object?\n",
    "Ans- The ImageDraw module provides simple 2D graphics for Image objects. You can use this module to create new images, annotate or retouch existing images, and to generate graphics on the fly for web use.\n",
    "    ImageDraw objects have shape-drawing methods such as point(), line(), or rectangle(). They are returned by passing the Image object to the ImageDraw.Draw() function."
   ]
  },
  {
   "cell_type": "code",
   "execution_count": null,
   "id": "bc00d9f3",
   "metadata": {},
   "outputs": [],
   "source": []
  }
 ],
 "metadata": {
  "kernelspec": {
   "display_name": "Python 3",
   "language": "python",
   "name": "python3"
  },
  "language_info": {
   "codemirror_mode": {
    "name": "ipython",
    "version": 3
   },
   "file_extension": ".py",
   "mimetype": "text/x-python",
   "name": "python",
   "nbconvert_exporter": "python",
   "pygments_lexer": "ipython3",
   "version": "3.8.8"
  }
 },
 "nbformat": 4,
 "nbformat_minor": 5
}
