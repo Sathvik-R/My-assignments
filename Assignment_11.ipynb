{
 "cells": [
  {
   "cell_type": "code",
   "execution_count": null,
   "id": "4f4decd6",
   "metadata": {},
   "outputs": [],
   "source": [
    "#Q1.Write an assert statement that triggers an AssertionError if the variable spam is an integer less than 10.\n",
    "assert spam >0"
   ]
  },
  {
   "cell_type": "code",
   "execution_count": null,
   "id": "bba279e6",
   "metadata": {},
   "outputs": [],
   "source": [
    "#Q2.Write an assert statement that triggers an AssertionError if the variables eggs and bacon contain strings that are the same as each other, even if their cases are different (that is, 'hello' and 'hello' are considered the same, and 'goodbye' and 'GOODbye' are also considered the same).\n",
    "assert(eggs.lower() != bacon.lower(), 'The eggs and bacon variables are the same!') or assert(eggs.upper() != bacon.upper(), 'The eggs and bacon variables are the same!')\n"
   ]
  },
  {
   "cell_type": "code",
   "execution_count": null,
   "id": "b51a5861",
   "metadata": {},
   "outputs": [],
   "source": [
    "#Q3.Write an assert statement that always triggers an AssertionError.\n",
    "assert(False, 'This assertion always triggers.')"
   ]
  },
  {
   "cell_type": "code",
   "execution_count": null,
   "id": "31334343",
   "metadata": {},
   "outputs": [],
   "source": [
    "#Q4.What are the two lines that your program must have in order to be able to call logging.debug()?\n",
    "Ans- To be able to call logging.debug(), you must have these two lines at the start of your program: \n",
    "    import logging logging.basicConfig(level=logging.DEBUG, format=' %(asctime)s - %(levelname)s - %(message)s')"
   ]
  },
  {
   "cell_type": "code",
   "execution_count": null,
   "id": "4fea3a71",
   "metadata": {},
   "outputs": [],
   "source": [
    "#Q5.What are the two lines that your program must have in order to have logging.debug() send a \n",
    "#logging message to a file named programLog.txt?\n",
    "Ans- import logging logging.basicConfig(filename='programLog.txt', level=logging.DEBUG, format=' %(asctime)s - %(levelname)s - %(message)s')"
   ]
  },
  {
   "cell_type": "code",
   "execution_count": null,
   "id": "bffddb77",
   "metadata": {},
   "outputs": [],
   "source": [
    "#Q6.What are the five levels of logging?\n",
    "Ans- DEBUG, INFO, WARNING, ERROR, and CRITICAL"
   ]
  },
  {
   "cell_type": "code",
   "execution_count": null,
   "id": "c1fec466",
   "metadata": {},
   "outputs": [],
   "source": [
    "#Q7.What line of code would you add to your software to disable all logging messages?\n",
    "Ans- logging.disable(logging.CRITICAL)"
   ]
  },
  {
   "cell_type": "code",
   "execution_count": null,
   "id": "8a3b5c31",
   "metadata": {},
   "outputs": [],
   "source": [
    "#Q8.Why is using logging messages better than using print() to display the same message?\n",
    "Ans- You can disable logging messages without removing the logging function calls. You can selectively disable lower-level logging messages. \n",
    "    You can create logging messages. Logging messages provides a timestamp. "
   ]
  },
  {
   "cell_type": "code",
   "execution_count": null,
   "id": "678e65f4",
   "metadata": {},
   "outputs": [],
   "source": [
    "#Q9.What are the differences between the Step Over, Step In, and Step Out buttons in the debugger?\n",
    "Ans- The Step In button will move the debugger into a function call. The Step Over button will quickly execute the function call without stepping into it. \n",
    "     The Step Out button will quickly execute the rest of the code until it steps out of the function it currently is in. "
   ]
  },
  {
   "cell_type": "code",
   "execution_count": null,
   "id": "c804df56",
   "metadata": {},
   "outputs": [],
   "source": [
    "#Q10.After you click Continue, when will the debugger stop ?\n",
    "Ans- After you click Continue, the debugger will stop when it has reached the end of the program or a line with a breakpoint "
   ]
  },
  {
   "cell_type": "code",
   "execution_count": null,
   "id": "2f9f1af0",
   "metadata": {},
   "outputs": [],
   "source": [
    "#Q11.What is the concept of a breakpoint?\n",
    "Ans- A breakpoint is a setting on a line of code that causes the debugger to pause when the program execution reaches the line."
   ]
  }
 ],
 "metadata": {
  "kernelspec": {
   "display_name": "Python 3",
   "language": "python",
   "name": "python3"
  },
  "language_info": {
   "codemirror_mode": {
    "name": "ipython",
    "version": 3
   },
   "file_extension": ".py",
   "mimetype": "text/x-python",
   "name": "python",
   "nbconvert_exporter": "python",
   "pygments_lexer": "ipython3",
   "version": "3.8.8"
  }
 },
 "nbformat": 4,
 "nbformat_minor": 5
}
