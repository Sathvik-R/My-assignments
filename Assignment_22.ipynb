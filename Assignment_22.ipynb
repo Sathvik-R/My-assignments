{
 "cells": [
  {
   "cell_type": "code",
   "execution_count": 1,
   "id": "86be3b41",
   "metadata": {},
   "outputs": [
    {
     "name": "stdout",
     "output_type": "stream",
     "text": [
      "iNeuron\n"
     ]
    }
   ],
   "source": [
    "#Q1.What is the result of the code, and explain?\n",
    "\n",
    "X = 'iNeuron'\n",
    "def func():\n",
    "   print(X)\n",
    "\n",
    "func()\n",
    "\n",
    "# o/p  iNeuron --> global variable can access anywhere"
   ]
  },
  {
   "cell_type": "code",
   "execution_count": 2,
   "id": "6a2a8bd3",
   "metadata": {},
   "outputs": [
    {
     "name": "stdout",
     "output_type": "stream",
     "text": [
      "iNeuron\n"
     ]
    }
   ],
   "source": [
    "#Q2.What is the result of the code, and explain?\n",
    "\n",
    "X = 'iNeuron'\n",
    "def func():\n",
    "   X = 'NI!'\n",
    "\n",
    "func()\n",
    "print(X)\n",
    "\n",
    "# Here when func() is called it will execute the statement written inside it which only initialize value of x='NI' \n",
    "#but it doesnot return anything(None).So it comes out of the block and doesnot print anything. Again when print(x) is executed it prints the value of X = 'iNeuron'."
   ]
  },
  {
   "cell_type": "code",
   "execution_count": 3,
   "id": "e8921f0f",
   "metadata": {},
   "outputs": [
    {
     "name": "stdout",
     "output_type": "stream",
     "text": [
      "NI\n",
      "iNeuron\n"
     ]
    }
   ],
   "source": [
    "#Q3.What does this code print, and why?\n",
    "\n",
    "X = 'iNeuron'\n",
    "def func():\n",
    "   X = 'NI'\n",
    "   print(X)\n",
    "\n",
    "func()\n",
    "print(X)\n",
    "\n",
    "#Here when func() is called it will execute the statement written inside it which initialize value of x='NI' \n",
    "#and subsequently print the value of X.The scope of X = 'NI'is within the block func(). But when a print statement i.e print(X) is executed it prints x value as iNeuron.(X is treated as global variable)"
   ]
  },
  {
   "cell_type": "code",
   "execution_count": 4,
   "id": "c7082a8d",
   "metadata": {},
   "outputs": [
    {
     "name": "stdout",
     "output_type": "stream",
     "text": [
      "NI\n"
     ]
    }
   ],
   "source": [
    "#Q4.What output does this code produce? Why?\n",
    "\n",
    "X = 'iNeuron'\n",
    "def func():\n",
    "    global X\n",
    "    X = 'NI'\n",
    "\n",
    "\n",
    "func()\n",
    "print(X)\n",
    "\n",
    "#Here in func() we have declared X as global variable hence it's previous value \n",
    "#i.e 'iNeuron' is overrided and when print(x) is executed it prints latest updated value i.e 'NI'."
   ]
  },
  {
   "cell_type": "code",
   "execution_count": 11,
   "id": "cd2591ed",
   "metadata": {},
   "outputs": [
    {
     "name": "stdout",
     "output_type": "stream",
     "text": [
      "iNeuron\n"
     ]
    }
   ],
   "source": [
    "#Q5.What about this code—what’s the output, and why?\n",
    "\n",
    "X = 'iNeuron'\n",
    "def func():\n",
    "  X = 'NI'\n",
    "def nested():\n",
    "   print(X)\n",
    "\n",
    "nested()"
   ]
  },
  {
   "cell_type": "code",
   "execution_count": 12,
   "id": "0442d2ac",
   "metadata": {},
   "outputs": [],
   "source": [
    "func()"
   ]
  },
  {
   "cell_type": "code",
   "execution_count": 13,
   "id": "5f91e83c",
   "metadata": {},
   "outputs": [
    {
     "data": {
      "text/plain": [
       "'iNeuron'"
      ]
     },
     "execution_count": 13,
     "metadata": {},
     "output_type": "execute_result"
    }
   ],
   "source": [
    "X\n",
    "\n",
    "#Here when nested() is called it prints X = 'iNeuron'(Global variable). \n",
    "#In func(), X = 'NI' the scope of X is within func() as it is a local variable."
   ]
  },
  {
   "cell_type": "code",
   "execution_count": 16,
   "id": "a450b50e",
   "metadata": {},
   "outputs": [
    {
     "ename": "SyntaxError",
     "evalue": "no binding for nonlocal 'X' found (<ipython-input-16-b766a746f5c5>, line 6)",
     "output_type": "error",
     "traceback": [
      "\u001b[1;36m  File \u001b[1;32m\"<ipython-input-16-b766a746f5c5>\"\u001b[1;36m, line \u001b[1;32m6\u001b[0m\n\u001b[1;33m    nonlocal X\u001b[0m\n\u001b[1;37m    ^\u001b[0m\n\u001b[1;31mSyntaxError\u001b[0m\u001b[1;31m:\u001b[0m no binding for nonlocal 'X' found\n"
     ]
    }
   ],
   "source": [
    "#Q6.How about this code: what is its output in Python 3, and explain?\n",
    "\n",
    "def func():\n",
    "    X = 'NI'\n",
    "def nested():\n",
    "    nonlocal X\n",
    "    X = 'Spam'\n",
    "\n",
    "nested()\n",
    "print(X)"
   ]
  },
  {
   "cell_type": "code",
   "execution_count": 17,
   "id": "06786df8",
   "metadata": {},
   "outputs": [],
   "source": [
    "func()\n",
    "#A variable if we want to access outside the block as well as within the block should be declared as global."
   ]
  },
  {
   "cell_type": "code",
   "execution_count": null,
   "id": "223ea345",
   "metadata": {},
   "outputs": [],
   "source": []
  }
 ],
 "metadata": {
  "kernelspec": {
   "display_name": "Python 3",
   "language": "python",
   "name": "python3"
  },
  "language_info": {
   "codemirror_mode": {
    "name": "ipython",
    "version": 3
   },
   "file_extension": ".py",
   "mimetype": "text/x-python",
   "name": "python",
   "nbconvert_exporter": "python",
   "pygments_lexer": "ipython3",
   "version": "3.8.8"
  }
 },
 "nbformat": 4,
 "nbformat_minor": 5
}
