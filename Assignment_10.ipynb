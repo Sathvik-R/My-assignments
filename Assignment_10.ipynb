{
 "cells": [
  {
   "cell_type": "code",
   "execution_count": null,
   "id": "59fb20b8",
   "metadata": {},
   "outputs": [],
   "source": [
    "Q1.How do you distinguish between shutil.copy() and shutil.copytree()?\n",
    "#Ans- The shutil.copy() function will copy a single file, \n",
    "#     while shutil.copytree() will copy an entire folder, along with all its contents."
   ]
  },
  {
   "cell_type": "code",
   "execution_count": null,
   "id": "9d5551d6",
   "metadata": {},
   "outputs": [],
   "source": [
    "Q2.What function is used to rename files??\n",
    "#Ans- os.rename()  is the function used to change the name of file or directory.\n",
    "#     The shutil.move() function is used for renaming files as well as moving them."
   ]
  },
  {
   "cell_type": "code",
   "execution_count": null,
   "id": "1f5e2997",
   "metadata": {},
   "outputs": [],
   "source": [
    "Q3.What is the difference between the delete functions in the send2trash and shutil modules?\n",
    "#Ans- The send2trash functions will move a file or folder to the recycle bin,\n",
    "#     while shutil functions will permanently delete files and folders "
   ]
  },
  {
   "cell_type": "code",
   "execution_count": null,
   "id": "c76f62dd",
   "metadata": {},
   "outputs": [],
   "source": [
    "Q4.ZipFile objects have a close() method just like File objects’ close() method. What ZipFile method is equivalent to File objects’ open() method?\n",
    "#Ans- The zipfile.ZipFile() function is equivalent to the open() function; the first argument is the filename, \n",
    "#     and the second argument is the mode to open the ZIP file in (read, write, or append)."
   ]
  },
  {
   "cell_type": "code",
   "execution_count": 2,
   "id": "570de924",
   "metadata": {},
   "outputs": [
    {
     "name": "stdout",
     "output_type": "stream",
     "text": [
      "Looking in C:\\Users\\SK\\Desktop\\INEURON\\Ineuron FSDS\\PersonnalIN\\Python\\randomFolder for files with extensions of .pdf, .jpg\n"
     ]
    }
   ],
   "source": [
    "import os, shutil\n",
    "\n",
    "def selectiveCopy(folder, extensions, destFolder):\n",
    "    folder = os.path.abspath(folder)\n",
    "    destFolder = os.path.abspath(destFolder)\n",
    "    print('Looking in', folder, 'for files with extensions of', ', '.join(extensions))\n",
    "    for foldername, subfolders, filenames in os.walk(folder):\n",
    "        for filename in filenames:\n",
    "            name, extension = os.path.splitext(filename)\n",
    "            if extension in extensions:\n",
    "                fileAbsPath = foldername + os.path.sep + filename\n",
    "                print('Coping', fileAbsPath, 'to', destFolder)\n",
    "                shutil.copy(fileAbsPath, destFolder)\n",
    "\n",
    "extensions = ['.pdf', '.jpg']\n",
    "folder = 'randomFolder'\n",
    "destFolder = 'selectiveFolder'\n",
    "selectiveCopy(folder, extensions, destFolder)"
   ]
  },
  {
   "cell_type": "code",
   "execution_count": null,
   "id": "62c44f6d",
   "metadata": {},
   "outputs": [],
   "source": []
  }
 ],
 "metadata": {
  "kernelspec": {
   "display_name": "Python 3",
   "language": "python",
   "name": "python3"
  },
  "language_info": {
   "codemirror_mode": {
    "name": "ipython",
    "version": 3
   },
   "file_extension": ".py",
   "mimetype": "text/x-python",
   "name": "python",
   "nbconvert_exporter": "python",
   "pygments_lexer": "ipython3",
   "version": "3.8.8"
  }
 },
 "nbformat": 4,
 "nbformat_minor": 5
}
