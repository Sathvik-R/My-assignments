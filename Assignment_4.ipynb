{
 "cells": [
  {
   "cell_type": "code",
   "execution_count": null,
   "id": "e61f51ba",
   "metadata": {},
   "outputs": [],
   "source": [
    "#1.What exactly is []?\n",
    "In python [] is an empty list"
   ]
  },
  {
   "cell_type": "code",
   "execution_count": 1,
   "id": "a81490e1",
   "metadata": {},
   "outputs": [
    {
     "name": "stdout",
     "output_type": "stream",
     "text": [
      "<class 'list'>\n"
     ]
    }
   ],
   "source": [
    "print(type([]))"
   ]
  },
  {
   "cell_type": "code",
   "execution_count": 2,
   "id": "54aefa36",
   "metadata": {},
   "outputs": [
    {
     "data": {
      "text/plain": [
       "[2, 4, 'hello', 8, 10]"
      ]
     },
     "execution_count": 2,
     "metadata": {},
     "output_type": "execute_result"
    }
   ],
   "source": [
    "#2.In a list of values stored in a variable called spam, how would you assign the value 'hello' as the third value? (Assume [2, 4, 6, 8, 10] are in spam.)\n",
    "spam = [2,4,6,8,10]\n",
    "spam[2] = 'hello'\n",
    "spam"
   ]
  },
  {
   "cell_type": "code",
   "execution_count": 4,
   "id": "b5dcf391",
   "metadata": {},
   "outputs": [],
   "source": [
    "#Let's pretend the spam includes the list ['a', 'b', 'c', 'd'] for the next three queries.\n",
    "spam = ['a', 'b', 'c', 'd']\n",
    "#3.What is the value of spam[int(int('3' * 2) / 11)]?\n",
    "\n",
    "val = int(int('3' * 2) / 11)"
   ]
  },
  {
   "cell_type": "code",
   "execution_count": 5,
   "id": "4427e3bc",
   "metadata": {},
   "outputs": [
    {
     "data": {
      "text/plain": [
       "'d'"
      ]
     },
     "execution_count": 5,
     "metadata": {},
     "output_type": "execute_result"
    }
   ],
   "source": [
    "spam[val]"
   ]
  },
  {
   "cell_type": "code",
   "execution_count": 6,
   "id": "45f44847",
   "metadata": {},
   "outputs": [
    {
     "data": {
      "text/plain": [
       "'d'"
      ]
     },
     "execution_count": 6,
     "metadata": {},
     "output_type": "execute_result"
    }
   ],
   "source": [
    "#4.What is the value of spam[-1]?\n",
    "spam[-1]   "
   ]
  },
  {
   "cell_type": "code",
   "execution_count": 7,
   "id": "4ab4e4e4",
   "metadata": {},
   "outputs": [
    {
     "data": {
      "text/plain": [
       "['a', 'b']"
      ]
     },
     "execution_count": 7,
     "metadata": {},
     "output_type": "execute_result"
    }
   ],
   "source": [
    "#5.What is the value of spam[:2]?\n",
    "spam[:2]"
   ]
  },
  {
   "cell_type": "code",
   "execution_count": 16,
   "id": "5d6c4fd7",
   "metadata": {},
   "outputs": [
    {
     "data": {
      "text/plain": [
       "1"
      ]
     },
     "execution_count": 16,
     "metadata": {},
     "output_type": "execute_result"
    }
   ],
   "source": [
    "#Let's pretend bacon has the list [3.14, 'cat,' 11, 'cat,' True] for the next three questions.\n",
    "bacon = [3.14, 'cat', 11, 'cat', True]\n",
    "#6.What is the value of bacon.index('cat')?\n",
    "bacon.index('cat')"
   ]
  },
  {
   "cell_type": "code",
   "execution_count": 18,
   "id": "4d5da081",
   "metadata": {},
   "outputs": [
    {
     "data": {
      "text/plain": [
       "[3.14, 11, 'cat', True, 99]"
      ]
     },
     "execution_count": 18,
     "metadata": {},
     "output_type": "execute_result"
    }
   ],
   "source": [
    "#7.How does bacon.append(99) change the look of the list value in bacon?\n",
    "bacon.append(99)\n",
    "bacon"
   ]
  },
  {
   "cell_type": "code",
   "execution_count": 17,
   "id": "83ca65d6",
   "metadata": {},
   "outputs": [
    {
     "data": {
      "text/plain": [
       "[3.14, 11, 'cat', True]"
      ]
     },
     "execution_count": 17,
     "metadata": {},
     "output_type": "execute_result"
    }
   ],
   "source": [
    "#8.How does bacon.remove('cat') change the look of the list in bacon?\n",
    "bacon.remove('cat')\n",
    "bacon"
   ]
  },
  {
   "cell_type": "code",
   "execution_count": null,
   "id": "01b3a54e",
   "metadata": {},
   "outputs": [],
   "source": [
    "#9.What are the list concatenation and list replication operators?\n",
    "The operator for list concatenation is +, while the operator for replication is *"
   ]
  },
  {
   "cell_type": "code",
   "execution_count": 19,
   "id": "528174df",
   "metadata": {},
   "outputs": [
    {
     "name": "stdout",
     "output_type": "stream",
     "text": [
      "['a', 'b', 1, 'c', 'd', 2]\n",
      "['a', 'b', 1, 'a', 'b', 1, 'a', 'b', 1]\n"
     ]
    }
   ],
   "source": [
    "list_1 = ['a','b',1]\n",
    "list_2 = ['c','d',2]\n",
    "print(list_1 + list_2)\n",
    "print(list_1 * 3)"
   ]
  },
  {
   "cell_type": "code",
   "execution_count": null,
   "id": "9a30e702",
   "metadata": {},
   "outputs": [],
   "source": [
    "#10.What is difference between the list methods append() and insert()?\n",
    "append() Adds an element at the end of the list\n",
    "insert() Adds an element at the specified positio"
   ]
  },
  {
   "cell_type": "code",
   "execution_count": null,
   "id": "5fb30a5e",
   "metadata": {},
   "outputs": [],
   "source": [
    "#11.What are the two methods for removing items from a list?\n",
    "pop() Removes the element at the specified position\n",
    "remove()\tRemoves the item with the specified value"
   ]
  },
  {
   "cell_type": "code",
   "execution_count": null,
   "id": "75b23b10",
   "metadata": {},
   "outputs": [],
   "source": [
    "#12.Describe how list values and string values are identical.\n",
    "List can contain any type of datatype values be it integer or string , values in the string is denoted by the index number thats why list values and string values are identical"
   ]
  },
  {
   "cell_type": "code",
   "execution_count": null,
   "id": "6ad1f149",
   "metadata": {},
   "outputs": [],
   "source": [
    "#13.What's the difference between tuples and lists?\n",
    "List has mutable nature i.e., list can be changed or modified after its creation according to needs whereas tuple has immutable nature i.e., \n",
    "tuple can't be changed or modified after its creation."
   ]
  },
  {
   "cell_type": "code",
   "execution_count": 21,
   "id": "9468529e",
   "metadata": {},
   "outputs": [
    {
     "data": {
      "text/plain": [
       "42"
      ]
     },
     "execution_count": 21,
     "metadata": {},
     "output_type": "execute_result"
    }
   ],
   "source": [
    "#14.How do you type a tuple value that only contains the integer 42?\n",
    "\n",
    "my_tuple = (42)\n",
    "my_tuple\n",
    "#type(my_tuple)"
   ]
  },
  {
   "cell_type": "code",
   "execution_count": 22,
   "id": "1816e190",
   "metadata": {},
   "outputs": [
    {
     "name": "stdout",
     "output_type": "stream",
     "text": [
      "[1, 2, 3]\n",
      "<class 'list'>\n",
      "(4, 5, 6)\n",
      "<class 'tuple'>\n"
     ]
    }
   ],
   "source": [
    "#15.How do you get a list value's tuple form? How do you get a tuple value's list form?\n",
    "tuple_values=(1,2,3)\n",
    "list_values = [4,5,6]\n",
    "convert_tuple_to_list = list(tuple_values)\n",
    "print(convert_tuple_to_list)\n",
    "print(type(convert_tuple_to_list))\n",
    "convert_list_to_tuple = tuple(list_values)\n",
    "print(convert_list_to_tuple)\n",
    "print(type(convert_list_to_tuple))"
   ]
  },
  {
   "cell_type": "code",
   "execution_count": null,
   "id": "f3a3498a",
   "metadata": {},
   "outputs": [],
   "source": [
    "#16.Variables that \"contain\" list values are not necessarily lists themselves. Instead, what do they contain?\n",
    "List can contain different type of datatype Eg:li=[1,2,3,\"abc\",\"xyz\"].Also list contains references to list values."
   ]
  },
  {
   "cell_type": "code",
   "execution_count": null,
   "id": "57c0d111",
   "metadata": {},
   "outputs": [],
   "source": [
    "#17.How do you distinguish between copy.copy() and copy.deepcopy()?\n",
    "A shallow copy means constructing a new collection object and \n",
    "then populating it with references to the child objects found in the original. \n",
    "In essence, a shallow copy is only one level deep. The copying process does not recurse \n",
    "and therefore won’t create copies of the child objects themselves.\n",
    "\n",
    "\n",
    "A deep copy makes the copying process recursive. It means first constructing a \n",
    "new collection object and then recursively populating it with copies of the child \n",
    "objects found in the original. Copying an object this way walks the \n",
    "whole object tree to create a fully independent clone of the original object and all of its children."
   ]
  },
  {
   "cell_type": "code",
   "execution_count": 30,
   "id": "9e37c10e",
   "metadata": {},
   "outputs": [],
   "source": [
    "import copy\n",
    "My_list = [[1,2],[3,4]]\n",
    "new_list = My_list\n",
    "new_shallow_list = copy.copy(My_list)\n",
    "new_deep_list = copy.deepcopy(My_list)"
   ]
  },
  {
   "cell_type": "code",
   "execution_count": 31,
   "id": "5fd46660",
   "metadata": {},
   "outputs": [
    {
     "data": {
      "text/plain": [
       "[[1, 2], [3, 4], 'ineuron']"
      ]
     },
     "execution_count": 31,
     "metadata": {},
     "output_type": "execute_result"
    }
   ],
   "source": [
    "My_list.append('ineuron')\n",
    "My_list"
   ]
  },
  {
   "cell_type": "code",
   "execution_count": 33,
   "id": "ca496d3f",
   "metadata": {},
   "outputs": [
    {
     "data": {
      "text/plain": [
       "[[1, 2], [3, 10], 'ineuron']"
      ]
     },
     "execution_count": 33,
     "metadata": {},
     "output_type": "execute_result"
    }
   ],
   "source": [
    "My_list[1][1] = 10\n",
    "My_list"
   ]
  },
  {
   "cell_type": "code",
   "execution_count": 34,
   "id": "91092d94",
   "metadata": {},
   "outputs": [
    {
     "data": {
      "text/plain": [
       "[[1, 2], [3, 10]]"
      ]
     },
     "execution_count": 34,
     "metadata": {},
     "output_type": "execute_result"
    }
   ],
   "source": [
    "new_shallow_list # new element is not added but reference element value is modified"
   ]
  },
  {
   "cell_type": "code",
   "execution_count": 35,
   "id": "272afde5",
   "metadata": {},
   "outputs": [
    {
     "data": {
      "text/plain": [
       "[[1, 2], [3, 10], 'ineuron']"
      ]
     },
     "execution_count": 35,
     "metadata": {},
     "output_type": "execute_result"
    }
   ],
   "source": [
    "new_list"
   ]
  },
  {
   "cell_type": "code",
   "execution_count": 36,
   "id": "b10aa1f0",
   "metadata": {},
   "outputs": [
    {
     "data": {
      "text/plain": [
       "[[1, 2], [3, 4]]"
      ]
     },
     "execution_count": 36,
     "metadata": {},
     "output_type": "execute_result"
    }
   ],
   "source": [
    "new_deep_list"
   ]
  }
 ],
 "metadata": {
  "kernelspec": {
   "display_name": "Python 3",
   "language": "python",
   "name": "python3"
  },
  "language_info": {
   "codemirror_mode": {
    "name": "ipython",
    "version": 3
   },
   "file_extension": ".py",
   "mimetype": "text/x-python",
   "name": "python",
   "nbconvert_exporter": "python",
   "pygments_lexer": "ipython3",
   "version": "3.8.8"
  }
 },
 "nbformat": 4,
 "nbformat_minor": 5
}
