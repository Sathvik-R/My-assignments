{
 "cells": [
  {
   "cell_type": "code",
   "execution_count": null,
   "id": "dbe22876",
   "metadata": {},
   "outputs": [],
   "source": [
    "#Q1.What advantages do Excel spreadsheets have over CSV spreadsheets?\n",
    "Ans- In Excel, spreadsheets can have values of data types other than strings; cells can have different fonts, \n",
    "     sizes, or color settings; cells can have varying widths and heights; adjacent cells can be merged; and you can embed images and charts."
   ]
  },
  {
   "cell_type": "code",
   "execution_count": null,
   "id": "aaaf77ec",
   "metadata": {},
   "outputs": [],
   "source": [
    "#Q2.What do you pass to csv.reader() and csv.writer() to create reader and writer objects?\n",
    "\n",
    "import csv\n",
    "with open('people.csv', 'r') as file:\n",
    "    reader = csv.reader(file)\n",
    "    for row in reader:\n",
    "        print(row)\n",
    "        \n",
    "import csv\n",
    "with open('protagonist.csv', 'w', newline='') as file:\n",
    "    writer = csv.writer(file)\n",
    "    writer.writerow([\"SN\", \"Movie\", \"Protagonist\"])\n",
    "    writer.writerow([1, \"Lord of the Rings\", \"Frodo Baggins\"])\n",
    "    writer.writerow([2, \"Harry Potter\", \"Harry Potter\"])\n",
    "    \n",
    "#Also pass a File object, obtained from a call to open()."
   ]
  },
  {
   "cell_type": "code",
   "execution_count": null,
   "id": "ae3fe62f",
   "metadata": {},
   "outputs": [],
   "source": [
    "#Q3.What modes do File objects for reader and writer objects need to be opened in?\n",
    "Ans- In order to open a file for reading or writing purposes, we must use the built-in open() function. \n",
    "    The open() function uses two arguments. First is the name of the file and second is for what purpose we want to open it.\n",
    "    File objects need to be opened in read-binary ('rb') for reader objects and write-binary ('wb') for writer objects."
   ]
  },
  {
   "cell_type": "code",
   "execution_count": null,
   "id": "c72e0718",
   "metadata": {},
   "outputs": [],
   "source": [
    "#Q4.What method takes a list argument and writes it to a CSV file?\n",
    "Ans- writerow()"
   ]
  },
  {
   "cell_type": "code",
   "execution_count": null,
   "id": "9c51ca56",
   "metadata": {},
   "outputs": [],
   "source": [
    "#Q5.What do the keyword arguments delimiter and line terminator do?\n",
    "Ans- The delimiter argument changes the string used to separate cells in a row. \n",
    "     The lineterminator argument changes the string used to separate rows."
   ]
  },
  {
   "cell_type": "code",
   "execution_count": null,
   "id": "652ca770",
   "metadata": {},
   "outputs": [],
   "source": [
    "#Q6.What function takes a string of JSON data and returns a Python data structure?\n",
    "Ans- json.loads()"
   ]
  },
  {
   "cell_type": "code",
   "execution_count": null,
   "id": "f6bd3088",
   "metadata": {},
   "outputs": [],
   "source": [
    "#Q7.What function takes a Python data structure and returns a string of JSON data?\n",
    "Ans- json.dumps()"
   ]
  }
 ],
 "metadata": {
  "kernelspec": {
   "display_name": "Python 3",
   "language": "python",
   "name": "python3"
  },
  "language_info": {
   "codemirror_mode": {
    "name": "ipython",
    "version": 3
   },
   "file_extension": ".py",
   "mimetype": "text/x-python",
   "name": "python",
   "nbconvert_exporter": "python",
   "pygments_lexer": "ipython3",
   "version": "3.8.8"
  }
 },
 "nbformat": 4,
 "nbformat_minor": 5
}
