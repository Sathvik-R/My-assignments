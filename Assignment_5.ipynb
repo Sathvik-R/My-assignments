{
 "cells": [
  {
   "cell_type": "code",
   "execution_count": 1,
   "id": "b4963096",
   "metadata": {},
   "outputs": [],
   "source": [
    "#1.What does an empty dictionary's code look like?\n",
    "a = {} #empty dictionary"
   ]
  },
  {
   "cell_type": "code",
   "execution_count": 2,
   "id": "ab19ed87",
   "metadata": {},
   "outputs": [
    {
     "data": {
      "text/plain": [
       "dict"
      ]
     },
     "execution_count": 2,
     "metadata": {},
     "output_type": "execute_result"
    }
   ],
   "source": [
    "type(a)"
   ]
  },
  {
   "cell_type": "code",
   "execution_count": 5,
   "id": "160c2e6d",
   "metadata": {},
   "outputs": [
    {
     "data": {
      "text/plain": [
       "{'foo': 42}"
      ]
     },
     "execution_count": 5,
     "metadata": {},
     "output_type": "execute_result"
    }
   ],
   "source": [
    "#2.What is the value of a dictionary value with the key 'foo' and the value 42?\n",
    "my_dict = {'foo':42}\n",
    "my_dict"
   ]
  },
  {
   "cell_type": "code",
   "execution_count": null,
   "id": "6cf5b4ab",
   "metadata": {},
   "outputs": [],
   "source": [
    "#3.What is the most significant distinction between a dictionary and a list?\n",
    "1. Each key-value pair in a Dictionary is separated by a colon : , whereas each key is separated by a 'comma' in list\n",
    "2. A list is an ordered sequence of objects , dictionaries are unordered sets.\n",
    "3. dictionaries are accessed via keys and not via their position and list values are accessed with their position"
   ]
  },
  {
   "cell_type": "code",
   "execution_count": 6,
   "id": "5ec001eb",
   "metadata": {},
   "outputs": [
    {
     "ename": "KeyError",
     "evalue": "'foo'",
     "output_type": "error",
     "traceback": [
      "\u001b[0;31m---------------------------------------------------------------------------\u001b[0m",
      "\u001b[0;31mKeyError\u001b[0m                                  Traceback (most recent call last)",
      "\u001b[0;32m<ipython-input-6-fcb6466dbdf9>\u001b[0m in \u001b[0;36m<module>\u001b[0;34m\u001b[0m\n\u001b[1;32m      1\u001b[0m \u001b[0;31m#4.What happens if you try to access spam['foo'] if spam is {'bar': 100}?\u001b[0m\u001b[0;34m\u001b[0m\u001b[0;34m\u001b[0m\u001b[0;34m\u001b[0m\u001b[0m\n\u001b[1;32m      2\u001b[0m \u001b[0mspam\u001b[0m \u001b[0;34m=\u001b[0m \u001b[0;34m{\u001b[0m\u001b[0;34m\"bar\"\u001b[0m\u001b[0;34m:\u001b[0m\u001b[0;36m100\u001b[0m\u001b[0;34m}\u001b[0m\u001b[0;34m\u001b[0m\u001b[0;34m\u001b[0m\u001b[0m\n\u001b[0;32m----> 3\u001b[0;31m \u001b[0mspam\u001b[0m\u001b[0;34m[\u001b[0m\u001b[0;34m'foo'\u001b[0m\u001b[0;34m]\u001b[0m\u001b[0;34m\u001b[0m\u001b[0;34m\u001b[0m\u001b[0m\n\u001b[0m",
      "\u001b[0;31mKeyError\u001b[0m: 'foo'"
     ]
    }
   ],
   "source": [
    "#4.What happens if you try to access spam['foo'] if spam is {'bar': 100}?\n",
    "spam = {\"bar\":100}\n",
    "spam['foo']"
   ]
  },
  {
   "cell_type": "code",
   "execution_count": 7,
   "id": "c174bdae",
   "metadata": {},
   "outputs": [
    {
     "name": "stdout",
     "output_type": "stream",
     "text": [
      "Jack\n",
      "dict_keys(['cat'])\n"
     ]
    }
   ],
   "source": [
    "#5.If a dictionary is stored in spam, what is the difference between the expressions 'cat' in spam and 'cat' in spam.keys()?\n",
    "\n",
    "spam = {'cat': 'Jack'}\n",
    "print(spam['cat']) # will result in cat key value\n",
    "print(spam.keys()) # will result all the keys in the spam dictionary"
   ]
  },
  {
   "cell_type": "code",
   "execution_count": null,
   "id": "b3be58b8",
   "metadata": {},
   "outputs": [],
   "source": [
    "#6.If a dictionary is stored in spam, what is the difference between the expressions 'cat' in spam and 'cat' in spam.values()?\n",
    "\n",
    "spam = {'cat': 'Jack'}\n",
    "print(spam['cat']) # will result in cat key value\n",
    "print(spam.keys()) # will result all the keys in the spam dictionary"
   ]
  },
  {
   "cell_type": "code",
   "execution_count": 8,
   "id": "89a7da5f",
   "metadata": {},
   "outputs": [
    {
     "data": {
      "text/plain": [
       "'black'"
      ]
     },
     "execution_count": 8,
     "metadata": {},
     "output_type": "execute_result"
    }
   ],
   "source": [
    "#7.What is a shortcut for the following code?\n",
    "#if 'color' not in spam:\n",
    "#spam['color'] = 'black'\n",
    "\n",
    "#dict.setdefault(key, default = None)\n",
    "spam.setdefault('color', 'black') #short cut"
   ]
  },
  {
   "cell_type": "code",
   "execution_count": 9,
   "id": "a86a5394",
   "metadata": {},
   "outputs": [
    {
     "name": "stdout",
     "output_type": "stream",
     "text": [
      "[[0,\n",
      "  1,\n",
      "  4,\n",
      "  9,\n",
      "  16,\n",
      "  25,\n",
      "  36,\n",
      "  49,\n",
      "  64,\n",
      "  81]]\n"
     ]
    }
   ],
   "source": [
    "# 8.How do you \"pretty print\" dictionary values using which module and function?\n",
    "\n",
    "import pprint\n",
    "\n",
    "d={'squares': [0, 1, 4, 9, 16, 25, 36, 49, 64, 81]}\n",
    "pprint.pprint([val for val in d.values()],width=10)"
   ]
  },
  {
   "cell_type": "code",
   "execution_count": null,
   "id": "ccaa6a37",
   "metadata": {},
   "outputs": [],
   "source": []
  },
  {
   "cell_type": "code",
   "execution_count": null,
   "id": "ef4c1342",
   "metadata": {},
   "outputs": [],
   "source": []
  }
 ],
 "metadata": {
  "kernelspec": {
   "display_name": "Python 3",
   "language": "python",
   "name": "python3"
  },
  "language_info": {
   "codemirror_mode": {
    "name": "ipython",
    "version": 3
   },
   "file_extension": ".py",
   "mimetype": "text/x-python",
   "name": "python",
   "nbconvert_exporter": "python",
   "pygments_lexer": "ipython3",
   "version": "3.8.8"
  }
 },
 "nbformat": 4,
 "nbformat_minor": 5
}
