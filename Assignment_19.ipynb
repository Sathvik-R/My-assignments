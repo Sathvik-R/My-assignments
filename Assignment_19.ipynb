{
 "cells": [
  {
   "cell_type": "code",
   "execution_count": null,
   "id": "e38274ec",
   "metadata": {},
   "outputs": [],
   "source": [
    "#Q1.Make a class called Thing with no contents and print it. Then, create an object called example\n",
    "#from this class and also print it. Are the printed values the same or different?\n",
    "\n",
    "class Thing:\n",
    "    pass"
   ]
  },
  {
   "cell_type": "code",
   "execution_count": null,
   "id": "c8ff81a5",
   "metadata": {},
   "outputs": [],
   "source": [
    "\n",
    "print(Thing)"
   ]
  },
  {
   "cell_type": "code",
   "execution_count": null,
   "id": "154585e0",
   "metadata": {},
   "outputs": [],
   "source": [
    "example = Thing()\n",
    "print(example)"
   ]
  },
  {
   "cell_type": "code",
   "execution_count": null,
   "id": "61d5fb55",
   "metadata": {},
   "outputs": [],
   "source": [
    "#Q2.Create a new class called Thing2 and add the value abc to the letters class attribute. Letters should be printed.\n",
    "\n",
    "class Thing2():\n",
    "    letters = 'abc'\n",
    "    \n",
    "print(Thing2.letters)"
   ]
  },
  {
   "cell_type": "code",
   "execution_count": null,
   "id": "c6d9de32",
   "metadata": {},
   "outputs": [],
   "source": [
    "#Q3.Make yet another class called, of course, Thing3. This time, assign the value xyz to an instance (object) \n",
    "#attribute called letters. Print letters. Do you need to make an object from the class to do this?\n",
    "\n",
    "class Thing3:\n",
    "        def __init__(self):\n",
    "            self.letters = 'xyz'"
   ]
  },
  {
   "cell_type": "code",
   "execution_count": null,
   "id": "af8dc04e",
   "metadata": {},
   "outputs": [],
   "source": [
    "print(Thing3.letters)"
   ]
  },
  {
   "cell_type": "code",
   "execution_count": null,
   "id": "18dd1cb7",
   "metadata": {},
   "outputs": [],
   "source": [
    "something = Thing3()\n",
    "print(something.letters)"
   ]
  },
  {
   "cell_type": "code",
   "execution_count": null,
   "id": "8e6f04dc",
   "metadata": {},
   "outputs": [],
   "source": [
    "#Q4.Create an Element class with the instance attributes name, symbol, and number. Create a class\n",
    "#object with the values Hydrogen,H,and 1.\n",
    "\n",
    "class Element(): \n",
    "    def __init__(self ,name,symbol,number):\n",
    "        self.name = name\n",
    "        self.symbol = symbol\n",
    "        self.number = number"
   ]
  },
  {
   "cell_type": "code",
   "execution_count": null,
   "id": "030c99ce",
   "metadata": {},
   "outputs": [],
   "source": [
    "a =Element('Hydrogen','H',1)\n",
    "a"
   ]
  },
  {
   "cell_type": "code",
   "execution_count": null,
   "id": "39a58286",
   "metadata": {},
   "outputs": [],
   "source": [
    "#Q5.Make a dictionary with these keys and values: name:Hydrogen,symbol:H,number:1.Then,\n",
    "#create an object called hydrogen from class Element using this dictionary.\n",
    "\n",
    "a = {'name':'hydrogen', 'symbol':'H', 'number':1}\n",
    "\n",
    "hydrogen = Element(**a)"
   ]
  },
  {
   "cell_type": "code",
   "execution_count": null,
   "id": "dd0c55ad",
   "metadata": {},
   "outputs": [],
   "source": [
    "hydrogen.name"
   ]
  },
  {
   "cell_type": "code",
   "execution_count": null,
   "id": "f68101c3",
   "metadata": {},
   "outputs": [],
   "source": [
    "#Q6.For the Element class, define a method called dump() that prints the values of the object’s attributes \n",
    "#(name, symbol, and number). Create the hydrogen object from this new definition and use dump() to print its attributes.\n",
    "\n",
    "class Element(): \n",
    "    def __init__(self ,name,symbol,number):\n",
    "        self.name = name\n",
    "        self.symbol = symbol\n",
    "        self.number = number\n",
    "    def dump(self):\n",
    "        print('name=%s, symbol=%s, number=%s'% (self.name, self.symbol, self.number) )\n",
    "hydrogen = Element(**a)\n",
    "hydrogen.dump()"
   ]
  },
  {
   "cell_type": "code",
   "execution_count": null,
   "id": "d1669d3f",
   "metadata": {},
   "outputs": [],
   "source": [
    "#Q7.Call print(hydrogen). In the definition of Element, change the name of method dump to __str__,\n",
    "#create a new hydrogen object, and call print(hydrogen) again.\n",
    "print(hydrogen)"
   ]
  },
  {
   "cell_type": "code",
   "execution_count": null,
   "id": "6ea6e3cb",
   "metadata": {},
   "outputs": [],
   "source": [
    "class Element:\n",
    "        def __init__(self, name, symbol, number):\n",
    "            self.name = name\n",
    "            self.symbol = symbol\n",
    "            self.number = number\n",
    "        def __str__(self):\n",
    "            return ('name=%s, symbol=%s, number=%s' %\n",
    "                (self.name, self.symbol, self.number))"
   ]
  },
  {
   "cell_type": "code",
   "execution_count": null,
   "id": "7a11b32b",
   "metadata": {},
   "outputs": [],
   "source": [
    "hydrogen = Element(**a)\n",
    "print(hydrogen)"
   ]
  },
  {
   "cell_type": "code",
   "execution_count": 17,
   "id": "ac917597",
   "metadata": {},
   "outputs": [],
   "source": [
    "#Q8.Modify Element to make the attributes name, symbol, and number private. \n",
    "#Define a getter property for each to return its value.\n",
    "\n",
    "class Element:\n",
    "        def __init__(self, name, symbol, number):\n",
    "            self.__name = name\n",
    "            self.__symbol = symbol\n",
    "            self.__number = number\n",
    "        @property\n",
    "        def name(self):\n",
    "            return self.__name\n",
    "        @property\n",
    "        def symbol(self):\n",
    "            return self.__symbol\n",
    "        @property\n",
    "        def number(self):\n",
    "            return self.__number\n"
   ]
  },
  {
   "cell_type": "code",
   "execution_count": 18,
   "id": "a91d4dfa",
   "metadata": {},
   "outputs": [
    {
     "data": {
      "text/plain": [
       "'Hydrogen'"
      ]
     },
     "execution_count": 18,
     "metadata": {},
     "output_type": "execute_result"
    }
   ],
   "source": [
    "hydrogen = Element('Hydrogen', 'H', 1)\n",
    "hydrogen.name"
   ]
  },
  {
   "cell_type": "code",
   "execution_count": 7,
   "id": "c4739bdd",
   "metadata": {},
   "outputs": [],
   "source": [
    "#Q9.Define three classes: Bear, Rabbit, and Octothorpe. For each, define only one method: eats(). This\n",
    "#should return berries(Bear),clover(Rabbit),campers(Octothorpe).Create one object from each and print what it eats.\n",
    "\n",
    "class Bear:\n",
    "        def eats(self):\n",
    "            return 'berries'\n",
    "class Rabbit:\n",
    "     def eats(self):\n",
    "        return 'clover'\n",
    "class Octothorpe:\n",
    "     def eats(self):\n",
    "            return 'campers'"
   ]
  },
  {
   "cell_type": "code",
   "execution_count": 8,
   "id": "8f927dea",
   "metadata": {},
   "outputs": [],
   "source": [
    "b=Bear()"
   ]
  },
  {
   "cell_type": "code",
   "execution_count": 9,
   "id": "2efcf05c",
   "metadata": {},
   "outputs": [],
   "source": [
    "r=Rabbit()"
   ]
  },
  {
   "cell_type": "code",
   "execution_count": 10,
   "id": "d4852b6e",
   "metadata": {},
   "outputs": [],
   "source": [
    "o=Octothorpe()"
   ]
  },
  {
   "cell_type": "code",
   "execution_count": 11,
   "id": "caf4a33a",
   "metadata": {},
   "outputs": [
    {
     "name": "stdout",
     "output_type": "stream",
     "text": [
      "berries\n"
     ]
    }
   ],
   "source": [
    "print(b.eats())"
   ]
  },
  {
   "cell_type": "code",
   "execution_count": 12,
   "id": "97ef801b",
   "metadata": {},
   "outputs": [
    {
     "name": "stdout",
     "output_type": "stream",
     "text": [
      "clover\n"
     ]
    }
   ],
   "source": [
    "print(r.eats())"
   ]
  },
  {
   "cell_type": "code",
   "execution_count": 13,
   "id": "20d46244",
   "metadata": {},
   "outputs": [
    {
     "name": "stdout",
     "output_type": "stream",
     "text": [
      "campers\n"
     ]
    }
   ],
   "source": [
    "print(o.eats())"
   ]
  },
  {
   "cell_type": "code",
   "execution_count": 14,
   "id": "e458786f",
   "metadata": {},
   "outputs": [],
   "source": [
    "#Q10.Define these classes: Laser, Claw, and SmartPhone. Each has only one method: does(). This\n",
    "#returns disintegrate(Laser),crush(Claw), or ring(SmartPhone). Then, define the class Robot that\n",
    "#has one instance (object) of each of these. Define a does() method for the Robot that prints what its component objects do.\n",
    "\n",
    "class Laser:\n",
    "    def does(self):\n",
    "             return 'disintegrate'\n",
    "class Claw:\n",
    "     def does(self):\n",
    "            return 'crush'\n",
    "\n",
    "class SmartPhone:\n",
    "     def does(self):\n",
    "            return 'ring'\n",
    "\n",
    "class Robot:\n",
    "    def __init__(self):\n",
    "            self.laser = Laser()\n",
    "            self.claw = Claw()\n",
    "            self.smartphone = SmartPhone()\n",
    "    def does(self):\n",
    "            return '''I have many attachments:\n",
    "            My laser, to %s.\n",
    "            My claw, to %s.\n",
    "            My smartphone, to %s.''' % (\n",
    "            self.laser.does(),\n",
    "            self.claw.does(),\n",
    "            self.smartphone.does() )\n"
   ]
  },
  {
   "cell_type": "code",
   "execution_count": 15,
   "id": "9d17d792",
   "metadata": {},
   "outputs": [],
   "source": [
    "robbie = Robot()"
   ]
  },
  {
   "cell_type": "code",
   "execution_count": 16,
   "id": "cc1d9f24",
   "metadata": {},
   "outputs": [
    {
     "name": "stdout",
     "output_type": "stream",
     "text": [
      "I have many attachments:\n",
      "            My laser, to disintegrate.\n",
      "            My claw, to crush.\n",
      "            My smartphone, to ring.\n"
     ]
    }
   ],
   "source": [
    "print(robbie.does())"
   ]
  },
  {
   "cell_type": "code",
   "execution_count": null,
   "id": "014711fd",
   "metadata": {},
   "outputs": [],
   "source": []
  }
 ],
 "metadata": {
  "kernelspec": {
   "display_name": "Python 3",
   "language": "python",
   "name": "python3"
  },
  "language_info": {
   "codemirror_mode": {
    "name": "ipython",
    "version": 3
   },
   "file_extension": ".py",
   "mimetype": "text/x-python",
   "name": "python",
   "nbconvert_exporter": "python",
   "pygments_lexer": "ipython3",
   "version": "3.8.8"
  }
 },
 "nbformat": 4,
 "nbformat_minor": 5
}
